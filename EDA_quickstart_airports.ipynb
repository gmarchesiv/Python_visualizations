{
 "cells": [
  {
   "cell_type": "markdown",
   "id": "00733675",
   "metadata": {},
   "source": [
    "# EDA Quick Start Guide \n",
    "by Giancarlo Marchesi"
   ]
  },
  {
   "cell_type": "markdown",
   "id": "28d88f66",
   "metadata": {},
   "source": [
    "This projects explores the characteristics of commercial airplane flight delays in the United States. The dataset ranges from January 2011 to December 2020.  The observations are reported by month, year, airline and airport. The data was downloaded from the Bureau of Transportation Statistics website https://www.transtats.bts.gov/OT_Delay/OT_DelayCause1.asp. \n",
    "\n",
    "The notebook aims to be a how-to guide in performing exploratory data analysis: cleaning, feature engineering and basic plots. The subtitles are sorted according to basic tasks so the reader can use this notebook as future reference for coding and analysis. The book finalizes with a clean data frame.  "
   ]
  },
  {
   "cell_type": "markdown",
   "id": "d3a3cf7d",
   "metadata": {},
   "source": [
    "## Loading the dataset"
   ]
  },
  {
   "cell_type": "code",
   "execution_count": 1,
   "id": "17a1f465",
   "metadata": {},
   "outputs": [],
   "source": [
    "# import all packages and set plots to be embedded inline\n",
    "import numpy as np\n",
    "import pandas as pd\n",
    "import matplotlib.pyplot as plt\n",
    "import seaborn as sns\n",
    "\n",
    "%matplotlib inline\n",
    "\n",
    "# suppress warnings from final output\n",
    "import warnings\n",
    "warnings.simplefilter(\"ignore\")"
   ]
  },
  {
   "cell_type": "code",
   "execution_count": 2,
   "id": "9f2a399a",
   "metadata": {},
   "outputs": [],
   "source": [
    "# load in the dataset into a pandas dataframe, print statistics\n",
    "delays= pd.read_csv('airline_delay_causes.csv')"
   ]
  },
  {
   "cell_type": "code",
   "execution_count": 3,
   "id": "41c2f6c4",
   "metadata": {},
   "outputs": [
    {
     "data": {
      "text/html": [
       "<div>\n",
       "<style scoped>\n",
       "    .dataframe tbody tr th:only-of-type {\n",
       "        vertical-align: middle;\n",
       "    }\n",
       "\n",
       "    .dataframe tbody tr th {\n",
       "        vertical-align: top;\n",
       "    }\n",
       "\n",
       "    .dataframe thead th {\n",
       "        text-align: right;\n",
       "    }\n",
       "</style>\n",
       "<table border=\"1\" class=\"dataframe\">\n",
       "  <thead>\n",
       "    <tr style=\"text-align: right;\">\n",
       "      <th></th>\n",
       "      <th>year</th>\n",
       "      <th>month</th>\n",
       "      <th>carrier</th>\n",
       "      <th>carrier_name</th>\n",
       "      <th>airport</th>\n",
       "      <th>airport_name</th>\n",
       "      <th>arr_flights</th>\n",
       "      <th>arr_del15</th>\n",
       "      <th>carrier_ct</th>\n",
       "      <th>weather_ct</th>\n",
       "      <th>...</th>\n",
       "      <th>late_aircraft_ct</th>\n",
       "      <th>arr_cancelled</th>\n",
       "      <th>arr_diverted</th>\n",
       "      <th>arr_delay</th>\n",
       "      <th>carrier_delay</th>\n",
       "      <th>weather_delay</th>\n",
       "      <th>nas_delay</th>\n",
       "      <th>security_delay</th>\n",
       "      <th>late_aircraft_delay</th>\n",
       "      <th>Unnamed: 21</th>\n",
       "    </tr>\n",
       "  </thead>\n",
       "  <tbody>\n",
       "    <tr>\n",
       "      <th>0</th>\n",
       "      <td>2011</td>\n",
       "      <td>12</td>\n",
       "      <td>DL</td>\n",
       "      <td>Delta Air Lines Inc.</td>\n",
       "      <td>STL</td>\n",
       "      <td>St. Louis, MO: St Louis Lambert International</td>\n",
       "      <td>396.0</td>\n",
       "      <td>34.0</td>\n",
       "      <td>13.90</td>\n",
       "      <td>0.68</td>\n",
       "      <td>...</td>\n",
       "      <td>12.89</td>\n",
       "      <td>0.0</td>\n",
       "      <td>0.0</td>\n",
       "      <td>1680.0</td>\n",
       "      <td>698.0</td>\n",
       "      <td>19.0</td>\n",
       "      <td>204.0</td>\n",
       "      <td>0.0</td>\n",
       "      <td>759.0</td>\n",
       "      <td>NaN</td>\n",
       "    </tr>\n",
       "    <tr>\n",
       "      <th>1</th>\n",
       "      <td>2011</td>\n",
       "      <td>12</td>\n",
       "      <td>DL</td>\n",
       "      <td>Delta Air Lines Inc.</td>\n",
       "      <td>STT</td>\n",
       "      <td>Charlotte Amalie, VI: Cyril E King</td>\n",
       "      <td>42.0</td>\n",
       "      <td>4.0</td>\n",
       "      <td>3.09</td>\n",
       "      <td>0.00</td>\n",
       "      <td>...</td>\n",
       "      <td>0.00</td>\n",
       "      <td>0.0</td>\n",
       "      <td>0.0</td>\n",
       "      <td>93.0</td>\n",
       "      <td>75.0</td>\n",
       "      <td>0.0</td>\n",
       "      <td>18.0</td>\n",
       "      <td>0.0</td>\n",
       "      <td>0.0</td>\n",
       "      <td>NaN</td>\n",
       "    </tr>\n",
       "    <tr>\n",
       "      <th>2</th>\n",
       "      <td>2011</td>\n",
       "      <td>12</td>\n",
       "      <td>DL</td>\n",
       "      <td>Delta Air Lines Inc.</td>\n",
       "      <td>STX</td>\n",
       "      <td>Christiansted, VI: Henry E. Rohlsen</td>\n",
       "      <td>3.0</td>\n",
       "      <td>0.0</td>\n",
       "      <td>0.00</td>\n",
       "      <td>0.00</td>\n",
       "      <td>...</td>\n",
       "      <td>0.00</td>\n",
       "      <td>0.0</td>\n",
       "      <td>0.0</td>\n",
       "      <td>0.0</td>\n",
       "      <td>0.0</td>\n",
       "      <td>0.0</td>\n",
       "      <td>0.0</td>\n",
       "      <td>0.0</td>\n",
       "      <td>0.0</td>\n",
       "      <td>NaN</td>\n",
       "    </tr>\n",
       "    <tr>\n",
       "      <th>3</th>\n",
       "      <td>2011</td>\n",
       "      <td>12</td>\n",
       "      <td>DL</td>\n",
       "      <td>Delta Air Lines Inc.</td>\n",
       "      <td>SYR</td>\n",
       "      <td>Syracuse, NY: Syracuse Hancock International</td>\n",
       "      <td>55.0</td>\n",
       "      <td>5.0</td>\n",
       "      <td>2.50</td>\n",
       "      <td>0.00</td>\n",
       "      <td>...</td>\n",
       "      <td>1.00</td>\n",
       "      <td>0.0</td>\n",
       "      <td>1.0</td>\n",
       "      <td>147.0</td>\n",
       "      <td>80.0</td>\n",
       "      <td>0.0</td>\n",
       "      <td>35.0</td>\n",
       "      <td>0.0</td>\n",
       "      <td>32.0</td>\n",
       "      <td>NaN</td>\n",
       "    </tr>\n",
       "    <tr>\n",
       "      <th>4</th>\n",
       "      <td>2011</td>\n",
       "      <td>12</td>\n",
       "      <td>DL</td>\n",
       "      <td>Delta Air Lines Inc.</td>\n",
       "      <td>TLH</td>\n",
       "      <td>Tallahassee, FL: Tallahassee International</td>\n",
       "      <td>31.0</td>\n",
       "      <td>5.0</td>\n",
       "      <td>1.25</td>\n",
       "      <td>0.00</td>\n",
       "      <td>...</td>\n",
       "      <td>2.74</td>\n",
       "      <td>0.0</td>\n",
       "      <td>0.0</td>\n",
       "      <td>332.0</td>\n",
       "      <td>92.0</td>\n",
       "      <td>0.0</td>\n",
       "      <td>39.0</td>\n",
       "      <td>0.0</td>\n",
       "      <td>201.0</td>\n",
       "      <td>NaN</td>\n",
       "    </tr>\n",
       "  </tbody>\n",
       "</table>\n",
       "<p>5 rows × 22 columns</p>\n",
       "</div>"
      ],
      "text/plain": [
       "   year   month carrier          carrier_name airport  \\\n",
       "0  2011      12      DL  Delta Air Lines Inc.     STL   \n",
       "1  2011      12      DL  Delta Air Lines Inc.     STT   \n",
       "2  2011      12      DL  Delta Air Lines Inc.     STX   \n",
       "3  2011      12      DL  Delta Air Lines Inc.     SYR   \n",
       "4  2011      12      DL  Delta Air Lines Inc.     TLH   \n",
       "\n",
       "                                    airport_name  arr_flights  arr_del15  \\\n",
       "0  St. Louis, MO: St Louis Lambert International        396.0       34.0   \n",
       "1             Charlotte Amalie, VI: Cyril E King         42.0        4.0   \n",
       "2            Christiansted, VI: Henry E. Rohlsen          3.0        0.0   \n",
       "3   Syracuse, NY: Syracuse Hancock International         55.0        5.0   \n",
       "4     Tallahassee, FL: Tallahassee International         31.0        5.0   \n",
       "\n",
       "   carrier_ct   weather_ct  ...  late_aircraft_ct  arr_cancelled  \\\n",
       "0       13.90         0.68  ...             12.89            0.0   \n",
       "1        3.09         0.00  ...              0.00            0.0   \n",
       "2        0.00         0.00  ...              0.00            0.0   \n",
       "3        2.50         0.00  ...              1.00            0.0   \n",
       "4        1.25         0.00  ...              2.74            0.0   \n",
       "\n",
       "   arr_diverted   arr_delay   carrier_delay  weather_delay  nas_delay  \\\n",
       "0           0.0      1680.0           698.0           19.0      204.0   \n",
       "1           0.0        93.0            75.0            0.0       18.0   \n",
       "2           0.0         0.0             0.0            0.0        0.0   \n",
       "3           1.0       147.0            80.0            0.0       35.0   \n",
       "4           0.0       332.0            92.0            0.0       39.0   \n",
       "\n",
       "   security_delay  late_aircraft_delay  Unnamed: 21  \n",
       "0             0.0                759.0          NaN  \n",
       "1             0.0                  0.0          NaN  \n",
       "2             0.0                  0.0          NaN  \n",
       "3             0.0                 32.0          NaN  \n",
       "4             0.0                201.0          NaN  \n",
       "\n",
       "[5 rows x 22 columns]"
      ]
     },
     "execution_count": 3,
     "metadata": {},
     "output_type": "execute_result"
    }
   ],
   "source": [
    "delays.head()"
   ]
  },
  {
   "cell_type": "code",
   "execution_count": 4,
   "id": "93a1631b",
   "metadata": {},
   "outputs": [
    {
     "data": {
      "text/plain": [
       "(158340, 22)"
      ]
     },
     "execution_count": 4,
     "metadata": {},
     "output_type": "execute_result"
    }
   ],
   "source": [
    "## The size of the data set\n",
    "delays.shape"
   ]
  },
  {
   "cell_type": "code",
   "execution_count": 5,
   "id": "2335cbdc",
   "metadata": {},
   "outputs": [
    {
     "name": "stdout",
     "output_type": "stream",
     "text": [
      "<class 'pandas.core.frame.DataFrame'>\n",
      "RangeIndex: 158340 entries, 0 to 158339\n",
      "Data columns (total 22 columns):\n",
      " #   Column               Non-Null Count   Dtype  \n",
      "---  ------               --------------   -----  \n",
      " 0   year                 158340 non-null  int64  \n",
      " 1    month               158340 non-null  int64  \n",
      " 2   carrier              158340 non-null  object \n",
      " 3   carrier_name         158340 non-null  object \n",
      " 4   airport              158340 non-null  object \n",
      " 5   airport_name         158340 non-null  object \n",
      " 6   arr_flights          158102 non-null  float64\n",
      " 7   arr_del15            157906 non-null  float64\n",
      " 8   carrier_ct           158102 non-null  float64\n",
      " 9    weather_ct          158102 non-null  float64\n",
      " 10  nas_ct               158102 non-null  float64\n",
      " 11  security_ct          158102 non-null  float64\n",
      " 12  late_aircraft_ct     158102 non-null  float64\n",
      " 13  arr_cancelled        158102 non-null  float64\n",
      " 14  arr_diverted         158102 non-null  float64\n",
      " 15   arr_delay           158102 non-null  float64\n",
      " 16   carrier_delay       158102 non-null  float64\n",
      " 17  weather_delay        158102 non-null  float64\n",
      " 18  nas_delay            158102 non-null  float64\n",
      " 19  security_delay       158102 non-null  float64\n",
      " 20  late_aircraft_delay  158102 non-null  float64\n",
      " 21  Unnamed: 21          0 non-null       float64\n",
      "dtypes: float64(16), int64(2), object(4)\n",
      "memory usage: 26.6+ MB\n"
     ]
    }
   ],
   "source": [
    "## The names and types of the variables \n",
    "delays.info()"
   ]
  },
  {
   "cell_type": "markdown",
   "id": "d483b2a7",
   "metadata": {},
   "source": [
    "### Variables "
   ]
  },
  {
   "cell_type": "markdown",
   "id": "243cf831",
   "metadata": {},
   "source": [
    "The features of the dataset are as follows: \n",
    "\n",
    "- The `_ct` variables are the counts of the causes of why flights were delayed.The sum of _ct variables is equl to arr_del15. The variables are are floats instead of integers becuase airlines have attributed more than one cause in percentages to several flights.\n",
    "\n",
    "- The `arr_` variables are all the possible classifications for a flight arrival: delayed, canceled,\n",
    "\n",
    "- The `_delay` variables are the number of minutes delayed.`arr_delay` is total number of minutes delayed in that month by an airline in an aiport. The _delay variables are the minutes attributed to the causes. \n",
    "\n",
    "\n",
    "- 0 `year`: year of the observation \n",
    "- 1 `month`: month of the observation \n",
    "- 2 `carrier`: IATA two-letter airline designator\n",
    "- 3 `carrier_name` : name of the airline\n",
    "- 4 `airport`: three-letter airport code\n",
    "- 5 `airport_name`: city and airport full name\n",
    "- 6 `arr_flights`: total number of arriving flights in the observation\n",
    "- 7 `arr_del15`: total number of delayed flights in the observation\n",
    "- 8 `carrier_ct`: number of flight delays attributed to carriers\n",
    "- 9 `weather_ct`:  number of flight delays attributed to weather\n",
    "- 10 `nas_ct`: number of flight delays attributed to the national advisory service\n",
    "- 11 `security_ct`: number of flight delays attributed to security concerns\n",
    "- 12 `late_aircraft_ct`: number of flight delays because the aircraft was late on its previous trip\n",
    "- 13 `arr_cancelled`:total number of canceled flights in the observation\n",
    "- 14 `arr_diverted`:total number of diverted flights in the observation\n",
    "- 15 `arr_delay`:  total number of minutes delayed in that month by an airline in an aiport\n",
    "- 16 `carrier_delay`: total number of minutes delayed atrributed to the airline  \n",
    "- 17 `weather_delay`: total number of minutes delayed atrributed to the weather\n",
    "- 18 `nas_delay`:  total number of minutes delayed atrributed to the national advisory service\n",
    "- 19 `security_delay`: total number of minutes delayed atrributed to security concerns\n",
    "- 20 `late_aircraft_delay`: total number of minutes delayed atrributed to the flight being late on its previous trip  \n",
    "- 21 `Unnamed: 21`: seems to be an empty variable"
   ]
  },
  {
   "cell_type": "markdown",
   "id": "a8db68e4",
   "metadata": {},
   "source": [
    "## Data cleaning"
   ]
  },
  {
   "cell_type": "markdown",
   "id": "5d8a09ab",
   "metadata": {},
   "source": [
    "During this phase we prepare the dataset, getting rid of anomalies in the data like null values, bad spelling in names, separating columns, changing data types, etc. In this section, I perform these tasks using standard strips of commentated code that can be replicated easily in other projects.  "
   ]
  },
  {
   "cell_type": "markdown",
   "id": "c9f33168",
   "metadata": {},
   "source": [
    "### Changing names of colums with `rename()`"
   ]
  },
  {
   "cell_type": "markdown",
   "id": "8cb926d7",
   "metadata": {},
   "source": [
    "A few columns have been mispelled using an additional blank space at the beginning. We can change these names so that space won't be a nuisance during the analysis phase. We use rename(), which takes a dictionary of the old and new names.  "
   ]
  },
  {
   "cell_type": "code",
   "execution_count": 6,
   "id": "8d61c9fb",
   "metadata": {},
   "outputs": [],
   "source": [
    "delays=delays.rename(columns = {' month': 'month', ' weather_ct': 'weather_ct', ' arr_delay': 'arr_delay', ' carrier_delay': 'carrier_delay'})"
   ]
  },
  {
   "cell_type": "code",
   "execution_count": 7,
   "id": "33adf9af",
   "metadata": {},
   "outputs": [
    {
     "name": "stdout",
     "output_type": "stream",
     "text": [
      "<class 'pandas.core.frame.DataFrame'>\n",
      "RangeIndex: 158340 entries, 0 to 158339\n",
      "Data columns (total 22 columns):\n",
      " #   Column               Non-Null Count   Dtype  \n",
      "---  ------               --------------   -----  \n",
      " 0   year                 158340 non-null  int64  \n",
      " 1   month                158340 non-null  int64  \n",
      " 2   carrier              158340 non-null  object \n",
      " 3   carrier_name         158340 non-null  object \n",
      " 4   airport              158340 non-null  object \n",
      " 5   airport_name         158340 non-null  object \n",
      " 6   arr_flights          158102 non-null  float64\n",
      " 7   arr_del15            157906 non-null  float64\n",
      " 8   carrier_ct           158102 non-null  float64\n",
      " 9   weather_ct           158102 non-null  float64\n",
      " 10  nas_ct               158102 non-null  float64\n",
      " 11  security_ct          158102 non-null  float64\n",
      " 12  late_aircraft_ct     158102 non-null  float64\n",
      " 13  arr_cancelled        158102 non-null  float64\n",
      " 14  arr_diverted         158102 non-null  float64\n",
      " 15  arr_delay            158102 non-null  float64\n",
      " 16  carrier_delay        158102 non-null  float64\n",
      " 17  weather_delay        158102 non-null  float64\n",
      " 18  nas_delay            158102 non-null  float64\n",
      " 19  security_delay       158102 non-null  float64\n",
      " 20  late_aircraft_delay  158102 non-null  float64\n",
      " 21  Unnamed: 21          0 non-null       float64\n",
      "dtypes: float64(16), int64(2), object(4)\n",
      "memory usage: 26.6+ MB\n"
     ]
    }
   ],
   "source": [
    "## Now the names are correct\n",
    "delays.info()"
   ]
  },
  {
   "cell_type": "markdown",
   "id": "582b0911",
   "metadata": {},
   "source": [
    "The `arr_delay` variable is total minutes delayed but the name is confusing because all other arr_ variables are the number of flights in a particular arrival status category. It'd be cleaner if it's renamed to `min_delay`"
   ]
  },
  {
   "cell_type": "code",
   "execution_count": 8,
   "id": "6b1c7c07",
   "metadata": {},
   "outputs": [],
   "source": [
    "delays=delays.rename(columns = {'arr_delay': 'min_delay'})"
   ]
  },
  {
   "cell_type": "markdown",
   "id": "5aba87d8",
   "metadata": {},
   "source": [
    "### Drop empty columns with `drop()`"
   ]
  },
  {
   "cell_type": "code",
   "execution_count": 9,
   "id": "85ec2b93",
   "metadata": {},
   "outputs": [],
   "source": [
    "### Now dropping all unnecessary columns. Drop takes a list; inplace=True is used instead of delays=delays.drop... \n",
    "delays.drop(columns=['Unnamed: 21'], inplace=True)"
   ]
  },
  {
   "cell_type": "code",
   "execution_count": 10,
   "id": "1ef26bb4",
   "metadata": {},
   "outputs": [
    {
     "name": "stdout",
     "output_type": "stream",
     "text": [
      "<class 'pandas.core.frame.DataFrame'>\n",
      "RangeIndex: 158340 entries, 0 to 158339\n",
      "Data columns (total 21 columns):\n",
      " #   Column               Non-Null Count   Dtype  \n",
      "---  ------               --------------   -----  \n",
      " 0   year                 158340 non-null  int64  \n",
      " 1   month                158340 non-null  int64  \n",
      " 2   carrier              158340 non-null  object \n",
      " 3   carrier_name         158340 non-null  object \n",
      " 4   airport              158340 non-null  object \n",
      " 5   airport_name         158340 non-null  object \n",
      " 6   arr_flights          158102 non-null  float64\n",
      " 7   arr_del15            157906 non-null  float64\n",
      " 8   carrier_ct           158102 non-null  float64\n",
      " 9   weather_ct           158102 non-null  float64\n",
      " 10  nas_ct               158102 non-null  float64\n",
      " 11  security_ct          158102 non-null  float64\n",
      " 12  late_aircraft_ct     158102 non-null  float64\n",
      " 13  arr_cancelled        158102 non-null  float64\n",
      " 14  arr_diverted         158102 non-null  float64\n",
      " 15  min_delay            158102 non-null  float64\n",
      " 16  carrier_delay        158102 non-null  float64\n",
      " 17  weather_delay        158102 non-null  float64\n",
      " 18  nas_delay            158102 non-null  float64\n",
      " 19  security_delay       158102 non-null  float64\n",
      " 20  late_aircraft_delay  158102 non-null  float64\n",
      "dtypes: float64(15), int64(2), object(4)\n",
      "memory usage: 25.4+ MB\n"
     ]
    }
   ],
   "source": [
    "delays.info()"
   ]
  },
  {
   "cell_type": "markdown",
   "id": "f4f2ff9a",
   "metadata": {},
   "source": [
    "### Exploring the dataset with `count`, `value_counts`, `unique`, `nunique`, `filter` and `describe`"
   ]
  },
  {
   "cell_type": "markdown",
   "id": "ef288188",
   "metadata": {},
   "source": [
    "We see that the number of datapoints in between variables is not the same. Before dropping observations, let's get a sense of why this would be the case. "
   ]
  },
  {
   "cell_type": "markdown",
   "id": "5af6d629",
   "metadata": {},
   "source": [
    "#### `carrier` & `carrier_name`"
   ]
  },
  {
   "cell_type": "markdown",
   "id": "9c1e4150",
   "metadata": {},
   "source": [
    "Let's check if these two variables coincide. In principle, they should; `carrier` is just the IATA two letter code for the airline. "
   ]
  },
  {
   "cell_type": "code",
   "execution_count": 11,
   "id": "5b4e892d",
   "metadata": {},
   "outputs": [
    {
     "data": {
      "text/plain": [
       "22"
      ]
     },
     "execution_count": 11,
     "metadata": {},
     "output_type": "execute_result"
    }
   ],
   "source": [
    "delays.carrier.nunique()"
   ]
  },
  {
   "cell_type": "code",
   "execution_count": 12,
   "id": "9005c60c",
   "metadata": {},
   "outputs": [
    {
     "data": {
      "text/plain": [
       "25"
      ]
     },
     "execution_count": 12,
     "metadata": {},
     "output_type": "execute_result"
    }
   ],
   "source": [
    "delays.carrier_name.nunique()"
   ]
  },
  {
   "cell_type": "markdown",
   "id": "a2405910",
   "metadata": {},
   "source": [
    "They don't coincide. Let's find out why. "
   ]
  },
  {
   "cell_type": "code",
   "execution_count": 13,
   "id": "7eb58679",
   "metadata": {},
   "outputs": [],
   "source": [
    "### by using the filter on these columns we have a smaller df\n",
    "explore=delays.filter(['carrier', 'carrier_name'], axis=1)"
   ]
  },
  {
   "cell_type": "code",
   "execution_count": 14,
   "id": "ec5df5bb",
   "metadata": {},
   "outputs": [
    {
     "data": {
      "text/html": [
       "<div>\n",
       "<style scoped>\n",
       "    .dataframe tbody tr th:only-of-type {\n",
       "        vertical-align: middle;\n",
       "    }\n",
       "\n",
       "    .dataframe tbody tr th {\n",
       "        vertical-align: top;\n",
       "    }\n",
       "\n",
       "    .dataframe thead tr th {\n",
       "        text-align: left;\n",
       "    }\n",
       "\n",
       "    .dataframe thead tr:last-of-type th {\n",
       "        text-align: right;\n",
       "    }\n",
       "</style>\n",
       "<table border=\"1\" class=\"dataframe\">\n",
       "  <thead>\n",
       "    <tr>\n",
       "      <th></th>\n",
       "      <th colspan=\"4\" halign=\"left\">carrier</th>\n",
       "    </tr>\n",
       "    <tr>\n",
       "      <th></th>\n",
       "      <th>count</th>\n",
       "      <th>unique</th>\n",
       "      <th>top</th>\n",
       "      <th>freq</th>\n",
       "    </tr>\n",
       "    <tr>\n",
       "      <th>carrier_name</th>\n",
       "      <th></th>\n",
       "      <th></th>\n",
       "      <th></th>\n",
       "      <th></th>\n",
       "    </tr>\n",
       "  </thead>\n",
       "  <tbody>\n",
       "    <tr>\n",
       "      <th>AirTran Airways Corporation</th>\n",
       "      <td>2314</td>\n",
       "      <td>1</td>\n",
       "      <td>FL</td>\n",
       "      <td>2314</td>\n",
       "    </tr>\n",
       "    <tr>\n",
       "      <th>Alaska Airlines Inc.</th>\n",
       "      <td>7421</td>\n",
       "      <td>1</td>\n",
       "      <td>AS</td>\n",
       "      <td>7421</td>\n",
       "    </tr>\n",
       "    <tr>\n",
       "      <th>Allegiant Air</th>\n",
       "      <td>4287</td>\n",
       "      <td>1</td>\n",
       "      <td>G4</td>\n",
       "      <td>4287</td>\n",
       "    </tr>\n",
       "    <tr>\n",
       "      <th>American Airlines Inc.</th>\n",
       "      <td>10732</td>\n",
       "      <td>1</td>\n",
       "      <td>AA</td>\n",
       "      <td>10732</td>\n",
       "    </tr>\n",
       "    <tr>\n",
       "      <th>American Eagle Airlines Inc.</th>\n",
       "      <td>5208</td>\n",
       "      <td>1</td>\n",
       "      <td>MQ</td>\n",
       "      <td>5208</td>\n",
       "    </tr>\n",
       "    <tr>\n",
       "      <th>Atlantic Southeast Airlines</th>\n",
       "      <td>1442</td>\n",
       "      <td>1</td>\n",
       "      <td>EV</td>\n",
       "      <td>1442</td>\n",
       "    </tr>\n",
       "    <tr>\n",
       "      <th>Continental Air Lines Inc.</th>\n",
       "      <td>688</td>\n",
       "      <td>1</td>\n",
       "      <td>CO</td>\n",
       "      <td>688</td>\n",
       "    </tr>\n",
       "    <tr>\n",
       "      <th>Delta Air Lines Inc.</th>\n",
       "      <td>16389</td>\n",
       "      <td>1</td>\n",
       "      <td>DL</td>\n",
       "      <td>16389</td>\n",
       "    </tr>\n",
       "    <tr>\n",
       "      <th>Endeavor Air Inc.</th>\n",
       "      <td>4294</td>\n",
       "      <td>1</td>\n",
       "      <td>9E</td>\n",
       "      <td>4294</td>\n",
       "    </tr>\n",
       "    <tr>\n",
       "      <th>Envoy Air</th>\n",
       "      <td>7473</td>\n",
       "      <td>1</td>\n",
       "      <td>MQ</td>\n",
       "      <td>7473</td>\n",
       "    </tr>\n",
       "    <tr>\n",
       "      <th>ExpressJet Airlines Inc.</th>\n",
       "      <td>14556</td>\n",
       "      <td>2</td>\n",
       "      <td>EV</td>\n",
       "      <td>13159</td>\n",
       "    </tr>\n",
       "    <tr>\n",
       "      <th>ExpressJet Airlines LLC</th>\n",
       "      <td>1436</td>\n",
       "      <td>1</td>\n",
       "      <td>EV</td>\n",
       "      <td>1436</td>\n",
       "    </tr>\n",
       "    <tr>\n",
       "      <th>Frontier Airlines Inc.</th>\n",
       "      <td>7870</td>\n",
       "      <td>1</td>\n",
       "      <td>F9</td>\n",
       "      <td>7870</td>\n",
       "    </tr>\n",
       "    <tr>\n",
       "      <th>Hawaiian Airlines Inc.</th>\n",
       "      <td>1983</td>\n",
       "      <td>1</td>\n",
       "      <td>HA</td>\n",
       "      <td>1983</td>\n",
       "    </tr>\n",
       "    <tr>\n",
       "      <th>JetBlue Airways</th>\n",
       "      <td>7091</td>\n",
       "      <td>1</td>\n",
       "      <td>B6</td>\n",
       "      <td>7091</td>\n",
       "    </tr>\n",
       "    <tr>\n",
       "      <th>Mesa Airlines Inc.</th>\n",
       "      <td>6491</td>\n",
       "      <td>1</td>\n",
       "      <td>YV</td>\n",
       "      <td>6491</td>\n",
       "    </tr>\n",
       "    <tr>\n",
       "      <th>PSA Airlines Inc.</th>\n",
       "      <td>3290</td>\n",
       "      <td>1</td>\n",
       "      <td>OH</td>\n",
       "      <td>3290</td>\n",
       "    </tr>\n",
       "    <tr>\n",
       "      <th>Pinnacle Airlines Inc.</th>\n",
       "      <td>800</td>\n",
       "      <td>1</td>\n",
       "      <td>9E</td>\n",
       "      <td>800</td>\n",
       "    </tr>\n",
       "    <tr>\n",
       "      <th>Republic Airline</th>\n",
       "      <td>3086</td>\n",
       "      <td>1</td>\n",
       "      <td>YX</td>\n",
       "      <td>3086</td>\n",
       "    </tr>\n",
       "    <tr>\n",
       "      <th>SkyWest Airlines Inc.</th>\n",
       "      <td>22710</td>\n",
       "      <td>1</td>\n",
       "      <td>OO</td>\n",
       "      <td>22710</td>\n",
       "    </tr>\n",
       "    <tr>\n",
       "      <th>Southwest Airlines Co.</th>\n",
       "      <td>10072</td>\n",
       "      <td>1</td>\n",
       "      <td>WN</td>\n",
       "      <td>10072</td>\n",
       "    </tr>\n",
       "    <tr>\n",
       "      <th>Spirit Air Lines</th>\n",
       "      <td>2906</td>\n",
       "      <td>1</td>\n",
       "      <td>NK</td>\n",
       "      <td>2906</td>\n",
       "    </tr>\n",
       "    <tr>\n",
       "      <th>US Airways Inc.</th>\n",
       "      <td>4073</td>\n",
       "      <td>1</td>\n",
       "      <td>US</td>\n",
       "      <td>4073</td>\n",
       "    </tr>\n",
       "    <tr>\n",
       "      <th>United Air Lines Inc.</th>\n",
       "      <td>10300</td>\n",
       "      <td>1</td>\n",
       "      <td>UA</td>\n",
       "      <td>10300</td>\n",
       "    </tr>\n",
       "    <tr>\n",
       "      <th>Virgin America</th>\n",
       "      <td>1428</td>\n",
       "      <td>1</td>\n",
       "      <td>VX</td>\n",
       "      <td>1428</td>\n",
       "    </tr>\n",
       "  </tbody>\n",
       "</table>\n",
       "</div>"
      ],
      "text/plain": [
       "                             carrier                  \n",
       "                               count unique top   freq\n",
       "carrier_name                                          \n",
       "AirTran Airways Corporation     2314      1  FL   2314\n",
       "Alaska Airlines Inc.            7421      1  AS   7421\n",
       "Allegiant Air                   4287      1  G4   4287\n",
       "American Airlines Inc.         10732      1  AA  10732\n",
       "American Eagle Airlines Inc.    5208      1  MQ   5208\n",
       "Atlantic Southeast Airlines     1442      1  EV   1442\n",
       "Continental Air Lines Inc.       688      1  CO    688\n",
       "Delta Air Lines Inc.           16389      1  DL  16389\n",
       "Endeavor Air Inc.               4294      1  9E   4294\n",
       "Envoy Air                       7473      1  MQ   7473\n",
       "ExpressJet Airlines Inc.       14556      2  EV  13159\n",
       "ExpressJet Airlines LLC         1436      1  EV   1436\n",
       "Frontier Airlines Inc.          7870      1  F9   7870\n",
       "Hawaiian Airlines Inc.          1983      1  HA   1983\n",
       "JetBlue Airways                 7091      1  B6   7091\n",
       "Mesa Airlines Inc.              6491      1  YV   6491\n",
       "PSA Airlines Inc.               3290      1  OH   3290\n",
       "Pinnacle Airlines Inc.           800      1  9E    800\n",
       "Republic Airline                3086      1  YX   3086\n",
       "SkyWest Airlines Inc.          22710      1  OO  22710\n",
       "Southwest Airlines Co.         10072      1  WN  10072\n",
       "Spirit Air Lines                2906      1  NK   2906\n",
       "US Airways Inc.                 4073      1  US   4073\n",
       "United Air Lines Inc.          10300      1  UA  10300\n",
       "Virgin America                  1428      1  VX   1428"
      ]
     },
     "execution_count": 14,
     "metadata": {},
     "output_type": "execute_result"
    }
   ],
   "source": [
    "## by applying describe to the groupby method, it gives the summary statistics \n",
    "explore.groupby('carrier_name').describe()"
   ]
  },
  {
   "cell_type": "markdown",
   "id": "6a157a9f",
   "metadata": {},
   "source": [
    "There are three carrier codes that need to be cleaned: <br>\n",
    "After a quick Wikipedia search, I obtained the following data: \n",
    "\n",
    "-`EV`: there are 4 names associated to the carrier code EV. \n",
    "ExpressJet Airlines LLC and Atlantic Southeast Airlines. Atlantic SoutheEast Merged with ExpressJet and received a single  operating certificate from the FAA in December of 2011. \n",
    "Express Jet LLC eventually changed names to ExpressJet Airlines Inc, so the three names are the same company.\n",
    "ExpressJet Airlines Inc has two carrier codes associated: EV and XE.\n",
    "\n",
    "-`9E`: is now Endeavor Air, but was formerly called Pinnacle Airlines\n",
    "\n",
    "-`MQ`: MQ is now Envoy Air, but was formerly American Eagle Airlines"
   ]
  },
  {
   "cell_type": "markdown",
   "id": "0645cd28",
   "metadata": {},
   "source": [
    "**Let's analyze the ExpressJet problem more closely.**"
   ]
  },
  {
   "cell_type": "code",
   "execution_count": 15,
   "id": "5395c2f5",
   "metadata": {},
   "outputs": [],
   "source": [
    "## another way of achieving the same result. It\n",
    "dfev=delays[delays['carrier']=='EV']"
   ]
  },
  {
   "cell_type": "code",
   "execution_count": 16,
   "id": "02d229e2",
   "metadata": {},
   "outputs": [
    {
     "data": {
      "text/html": [
       "<div>\n",
       "<style scoped>\n",
       "    .dataframe tbody tr th:only-of-type {\n",
       "        vertical-align: middle;\n",
       "    }\n",
       "\n",
       "    .dataframe tbody tr th {\n",
       "        vertical-align: top;\n",
       "    }\n",
       "\n",
       "    .dataframe thead th {\n",
       "        text-align: right;\n",
       "    }\n",
       "</style>\n",
       "<table border=\"1\" class=\"dataframe\">\n",
       "  <thead>\n",
       "    <tr style=\"text-align: right;\">\n",
       "      <th></th>\n",
       "      <th>year</th>\n",
       "      <th>month</th>\n",
       "      <th>carrier</th>\n",
       "      <th>carrier_name</th>\n",
       "      <th>airport</th>\n",
       "      <th>airport_name</th>\n",
       "      <th>arr_flights</th>\n",
       "      <th>arr_del15</th>\n",
       "      <th>carrier_ct</th>\n",
       "      <th>weather_ct</th>\n",
       "      <th>...</th>\n",
       "      <th>security_ct</th>\n",
       "      <th>late_aircraft_ct</th>\n",
       "      <th>arr_cancelled</th>\n",
       "      <th>arr_diverted</th>\n",
       "      <th>min_delay</th>\n",
       "      <th>carrier_delay</th>\n",
       "      <th>weather_delay</th>\n",
       "      <th>nas_delay</th>\n",
       "      <th>security_delay</th>\n",
       "      <th>late_aircraft_delay</th>\n",
       "    </tr>\n",
       "  </thead>\n",
       "  <tbody>\n",
       "    <tr>\n",
       "      <th>10</th>\n",
       "      <td>2011</td>\n",
       "      <td>12</td>\n",
       "      <td>EV</td>\n",
       "      <td>Atlantic Southeast Airlines</td>\n",
       "      <td>ABE</td>\n",
       "      <td>Allentown/Bethlehem/Easton, PA: Lehigh Valley ...</td>\n",
       "      <td>53.0</td>\n",
       "      <td>5.0</td>\n",
       "      <td>2.41</td>\n",
       "      <td>0.0</td>\n",
       "      <td>...</td>\n",
       "      <td>0.08</td>\n",
       "      <td>2.48</td>\n",
       "      <td>0.0</td>\n",
       "      <td>0.0</td>\n",
       "      <td>567.0</td>\n",
       "      <td>273.0</td>\n",
       "      <td>0.0</td>\n",
       "      <td>5.0</td>\n",
       "      <td>9.0</td>\n",
       "      <td>280.0</td>\n",
       "    </tr>\n",
       "    <tr>\n",
       "      <th>11</th>\n",
       "      <td>2011</td>\n",
       "      <td>12</td>\n",
       "      <td>EV</td>\n",
       "      <td>Atlantic Southeast Airlines</td>\n",
       "      <td>ABY</td>\n",
       "      <td>Albany, GA: Southwest Georgia Regional</td>\n",
       "      <td>86.0</td>\n",
       "      <td>20.0</td>\n",
       "      <td>7.47</td>\n",
       "      <td>0.0</td>\n",
       "      <td>...</td>\n",
       "      <td>0.00</td>\n",
       "      <td>9.94</td>\n",
       "      <td>0.0</td>\n",
       "      <td>0.0</td>\n",
       "      <td>1288.0</td>\n",
       "      <td>490.0</td>\n",
       "      <td>0.0</td>\n",
       "      <td>118.0</td>\n",
       "      <td>0.0</td>\n",
       "      <td>680.0</td>\n",
       "    </tr>\n",
       "    <tr>\n",
       "      <th>12</th>\n",
       "      <td>2011</td>\n",
       "      <td>12</td>\n",
       "      <td>EV</td>\n",
       "      <td>Atlantic Southeast Airlines</td>\n",
       "      <td>AEX</td>\n",
       "      <td>Alexandria, LA: Alexandria International</td>\n",
       "      <td>116.0</td>\n",
       "      <td>26.0</td>\n",
       "      <td>15.06</td>\n",
       "      <td>0.0</td>\n",
       "      <td>...</td>\n",
       "      <td>0.00</td>\n",
       "      <td>7.98</td>\n",
       "      <td>0.0</td>\n",
       "      <td>0.0</td>\n",
       "      <td>1501.0</td>\n",
       "      <td>867.0</td>\n",
       "      <td>0.0</td>\n",
       "      <td>114.0</td>\n",
       "      <td>0.0</td>\n",
       "      <td>520.0</td>\n",
       "    </tr>\n",
       "  </tbody>\n",
       "</table>\n",
       "<p>3 rows × 21 columns</p>\n",
       "</div>"
      ],
      "text/plain": [
       "    year  month carrier                 carrier_name airport  \\\n",
       "10  2011     12      EV  Atlantic Southeast Airlines     ABE   \n",
       "11  2011     12      EV  Atlantic Southeast Airlines     ABY   \n",
       "12  2011     12      EV  Atlantic Southeast Airlines     AEX   \n",
       "\n",
       "                                         airport_name  arr_flights  arr_del15  \\\n",
       "10  Allentown/Bethlehem/Easton, PA: Lehigh Valley ...         53.0        5.0   \n",
       "11             Albany, GA: Southwest Georgia Regional         86.0       20.0   \n",
       "12           Alexandria, LA: Alexandria International        116.0       26.0   \n",
       "\n",
       "    carrier_ct  weather_ct  ...  security_ct  late_aircraft_ct  arr_cancelled  \\\n",
       "10        2.41         0.0  ...         0.08              2.48            0.0   \n",
       "11        7.47         0.0  ...         0.00              9.94            0.0   \n",
       "12       15.06         0.0  ...         0.00              7.98            0.0   \n",
       "\n",
       "    arr_diverted  min_delay  carrier_delay  weather_delay  nas_delay  \\\n",
       "10           0.0      567.0          273.0            0.0        5.0   \n",
       "11           0.0     1288.0          490.0            0.0      118.0   \n",
       "12           0.0     1501.0          867.0            0.0      114.0   \n",
       "\n",
       "    security_delay  late_aircraft_delay  \n",
       "10             9.0                280.0  \n",
       "11             0.0                680.0  \n",
       "12             0.0                520.0  \n",
       "\n",
       "[3 rows x 21 columns]"
      ]
     },
     "execution_count": 16,
     "metadata": {},
     "output_type": "execute_result"
    }
   ],
   "source": [
    "dfev.head(3)"
   ]
  },
  {
   "cell_type": "code",
   "execution_count": 17,
   "id": "107c36ca",
   "metadata": {},
   "outputs": [
    {
     "data": {
      "text/plain": [
       "array(['Atlantic Southeast Airlines', 'ExpressJet Airlines Inc.',\n",
       "       'ExpressJet Airlines LLC'], dtype=object)"
      ]
     },
     "execution_count": 17,
     "metadata": {},
     "output_type": "execute_result"
    }
   ],
   "source": [
    "dfev.carrier_name.unique()"
   ]
  },
  {
   "cell_type": "code",
   "execution_count": 18,
   "id": "cc35236b",
   "metadata": {},
   "outputs": [],
   "source": [
    "## Keeping a df with only ExpressJet Airlines Inc.\n",
    "dfev1=delays[delays['carrier_name'] == \"ExpressJet Airlines Inc.\"]"
   ]
  },
  {
   "cell_type": "code",
   "execution_count": 19,
   "id": "a2e3dd01",
   "metadata": {},
   "outputs": [
    {
     "data": {
      "text/plain": [
       "array(['XE', 'EV'], dtype=object)"
      ]
     },
     "execution_count": 19,
     "metadata": {},
     "output_type": "execute_result"
    }
   ],
   "source": [
    "dfev1.carrier.unique()"
   ]
  },
  {
   "cell_type": "markdown",
   "id": "173cbc63",
   "metadata": {},
   "source": [
    "##### Replacing values in rows using `replace()`"
   ]
  },
  {
   "cell_type": "markdown",
   "id": "3ebd91f6",
   "metadata": {},
   "source": [
    "Let's get rid of the multiple names for EV, by replacing all with ExpressJet Airlines Inc"
   ]
  },
  {
   "cell_type": "code",
   "execution_count": 20,
   "id": "8b4626c4",
   "metadata": {},
   "outputs": [],
   "source": [
    "delays.carrier_name.replace({'Atlantic Southeast Airlines':'ExpressJet Airlines Inc.', 'ExpressJet Airlines LLC':'ExpressJet Airlines Inc.'}, inplace=True)"
   ]
  },
  {
   "cell_type": "code",
   "execution_count": 21,
   "id": "1706ba61",
   "metadata": {},
   "outputs": [
    {
     "data": {
      "text/plain": [
       "23"
      ]
     },
     "execution_count": 21,
     "metadata": {},
     "output_type": "execute_result"
    }
   ],
   "source": [
    "delays.carrier_name.nunique()"
   ]
  },
  {
   "cell_type": "markdown",
   "id": "d6ed21bd",
   "metadata": {},
   "source": [
    "We're down from 25 to 23. "
   ]
  },
  {
   "cell_type": "code",
   "execution_count": 22,
   "id": "31edc86d",
   "metadata": {},
   "outputs": [
    {
     "data": {
      "text/plain": [
       "SkyWest Airlines Inc.           22710\n",
       "ExpressJet Airlines Inc.        17434\n",
       "Delta Air Lines Inc.            16389\n",
       "American Airlines Inc.          10732\n",
       "United Air Lines Inc.           10300\n",
       "Southwest Airlines Co.          10072\n",
       "Frontier Airlines Inc.           7870\n",
       "Envoy Air                        7473\n",
       "Alaska Airlines Inc.             7421\n",
       "JetBlue Airways                  7091\n",
       "Mesa Airlines Inc.               6491\n",
       "American Eagle Airlines Inc.     5208\n",
       "Endeavor Air Inc.                4294\n",
       "Allegiant Air                    4287\n",
       "US Airways Inc.                  4073\n",
       "PSA Airlines Inc.                3290\n",
       "Republic Airline                 3086\n",
       "Spirit Air Lines                 2906\n",
       "AirTran Airways Corporation      2314\n",
       "Hawaiian Airlines Inc.           1983\n",
       "Virgin America                   1428\n",
       "Pinnacle Airlines Inc.            800\n",
       "Continental Air Lines Inc.        688\n",
       "Name: carrier_name, dtype: int64"
      ]
     },
     "execution_count": 22,
     "metadata": {},
     "output_type": "execute_result"
    }
   ],
   "source": [
    "## Checking that the values have been replaced\n",
    "delays.carrier_name.value_counts()"
   ]
  },
  {
   "cell_type": "markdown",
   "id": "f690f69e",
   "metadata": {},
   "source": [
    "Regarding the XE carrier code, according to wikipedia it belongs to JetSuiteX, an independent airline that does regional flights in the West Coast (California, Nevada, Arizona, Texas, Utah). It is not affiliated with ExpressJet in anyway https://en.wikipedia.org/wiki/JSX_(airline) This seems odd. Let's look a bit closer."
   ]
  },
  {
   "cell_type": "code",
   "execution_count": 23,
   "id": "53f8e961",
   "metadata": {},
   "outputs": [],
   "source": [
    "dfxe= delays[delays['carrier']=='XE']"
   ]
  },
  {
   "cell_type": "code",
   "execution_count": 24,
   "id": "4d5e3961",
   "metadata": {},
   "outputs": [
    {
     "data": {
      "text/html": [
       "<div>\n",
       "<style scoped>\n",
       "    .dataframe tbody tr th:only-of-type {\n",
       "        vertical-align: middle;\n",
       "    }\n",
       "\n",
       "    .dataframe tbody tr th {\n",
       "        vertical-align: top;\n",
       "    }\n",
       "\n",
       "    .dataframe thead th {\n",
       "        text-align: right;\n",
       "    }\n",
       "</style>\n",
       "<table border=\"1\" class=\"dataframe\">\n",
       "  <thead>\n",
       "    <tr style=\"text-align: right;\">\n",
       "      <th></th>\n",
       "      <th>year</th>\n",
       "      <th>month</th>\n",
       "      <th>carrier</th>\n",
       "      <th>carrier_name</th>\n",
       "      <th>airport</th>\n",
       "      <th>airport_name</th>\n",
       "      <th>arr_flights</th>\n",
       "      <th>arr_del15</th>\n",
       "      <th>carrier_ct</th>\n",
       "      <th>weather_ct</th>\n",
       "      <th>...</th>\n",
       "      <th>security_ct</th>\n",
       "      <th>late_aircraft_ct</th>\n",
       "      <th>arr_cancelled</th>\n",
       "      <th>arr_diverted</th>\n",
       "      <th>min_delay</th>\n",
       "      <th>carrier_delay</th>\n",
       "      <th>weather_delay</th>\n",
       "      <th>nas_delay</th>\n",
       "      <th>security_delay</th>\n",
       "      <th>late_aircraft_delay</th>\n",
       "    </tr>\n",
       "  </thead>\n",
       "  <tbody>\n",
       "    <tr>\n",
       "      <th>750</th>\n",
       "      <td>2011</td>\n",
       "      <td>12</td>\n",
       "      <td>XE</td>\n",
       "      <td>ExpressJet Airlines Inc.</td>\n",
       "      <td>ABE</td>\n",
       "      <td>Allentown/Bethlehem/Easton, PA: Lehigh Valley ...</td>\n",
       "      <td>112.0</td>\n",
       "      <td>17.0</td>\n",
       "      <td>4.86</td>\n",
       "      <td>0.00</td>\n",
       "      <td>...</td>\n",
       "      <td>0.0</td>\n",
       "      <td>8.58</td>\n",
       "      <td>1.0</td>\n",
       "      <td>1.0</td>\n",
       "      <td>1132.0</td>\n",
       "      <td>330.0</td>\n",
       "      <td>0.0</td>\n",
       "      <td>103.0</td>\n",
       "      <td>0.0</td>\n",
       "      <td>699.0</td>\n",
       "    </tr>\n",
       "    <tr>\n",
       "      <th>751</th>\n",
       "      <td>2011</td>\n",
       "      <td>12</td>\n",
       "      <td>XE</td>\n",
       "      <td>ExpressJet Airlines Inc.</td>\n",
       "      <td>ABQ</td>\n",
       "      <td>Albuquerque, NM: Albuquerque International Sun...</td>\n",
       "      <td>100.0</td>\n",
       "      <td>21.0</td>\n",
       "      <td>9.62</td>\n",
       "      <td>0.28</td>\n",
       "      <td>...</td>\n",
       "      <td>0.0</td>\n",
       "      <td>8.28</td>\n",
       "      <td>2.0</td>\n",
       "      <td>0.0</td>\n",
       "      <td>1300.0</td>\n",
       "      <td>498.0</td>\n",
       "      <td>23.0</td>\n",
       "      <td>161.0</td>\n",
       "      <td>0.0</td>\n",
       "      <td>618.0</td>\n",
       "    </tr>\n",
       "    <tr>\n",
       "      <th>752</th>\n",
       "      <td>2011</td>\n",
       "      <td>12</td>\n",
       "      <td>XE</td>\n",
       "      <td>ExpressJet Airlines Inc.</td>\n",
       "      <td>AEX</td>\n",
       "      <td>Alexandria, LA: Alexandria International</td>\n",
       "      <td>62.0</td>\n",
       "      <td>14.0</td>\n",
       "      <td>6.20</td>\n",
       "      <td>0.00</td>\n",
       "      <td>...</td>\n",
       "      <td>0.0</td>\n",
       "      <td>5.57</td>\n",
       "      <td>1.0</td>\n",
       "      <td>0.0</td>\n",
       "      <td>811.0</td>\n",
       "      <td>317.0</td>\n",
       "      <td>0.0</td>\n",
       "      <td>62.0</td>\n",
       "      <td>0.0</td>\n",
       "      <td>432.0</td>\n",
       "    </tr>\n",
       "    <tr>\n",
       "      <th>753</th>\n",
       "      <td>2011</td>\n",
       "      <td>12</td>\n",
       "      <td>XE</td>\n",
       "      <td>ExpressJet Airlines Inc.</td>\n",
       "      <td>ALB</td>\n",
       "      <td>Albany, NY: Albany International</td>\n",
       "      <td>123.0</td>\n",
       "      <td>8.0</td>\n",
       "      <td>2.89</td>\n",
       "      <td>0.00</td>\n",
       "      <td>...</td>\n",
       "      <td>0.0</td>\n",
       "      <td>2.60</td>\n",
       "      <td>0.0</td>\n",
       "      <td>0.0</td>\n",
       "      <td>401.0</td>\n",
       "      <td>174.0</td>\n",
       "      <td>0.0</td>\n",
       "      <td>78.0</td>\n",
       "      <td>0.0</td>\n",
       "      <td>149.0</td>\n",
       "    </tr>\n",
       "    <tr>\n",
       "      <th>754</th>\n",
       "      <td>2011</td>\n",
       "      <td>12</td>\n",
       "      <td>XE</td>\n",
       "      <td>ExpressJet Airlines Inc.</td>\n",
       "      <td>AMA</td>\n",
       "      <td>Amarillo, TX: Rick Husband Amarillo International</td>\n",
       "      <td>165.0</td>\n",
       "      <td>41.0</td>\n",
       "      <td>12.19</td>\n",
       "      <td>2.25</td>\n",
       "      <td>...</td>\n",
       "      <td>0.0</td>\n",
       "      <td>15.78</td>\n",
       "      <td>11.0</td>\n",
       "      <td>3.0</td>\n",
       "      <td>2538.0</td>\n",
       "      <td>681.0</td>\n",
       "      <td>136.0</td>\n",
       "      <td>658.0</td>\n",
       "      <td>0.0</td>\n",
       "      <td>1063.0</td>\n",
       "    </tr>\n",
       "  </tbody>\n",
       "</table>\n",
       "<p>5 rows × 21 columns</p>\n",
       "</div>"
      ],
      "text/plain": [
       "     year  month carrier              carrier_name airport  \\\n",
       "750  2011     12      XE  ExpressJet Airlines Inc.     ABE   \n",
       "751  2011     12      XE  ExpressJet Airlines Inc.     ABQ   \n",
       "752  2011     12      XE  ExpressJet Airlines Inc.     AEX   \n",
       "753  2011     12      XE  ExpressJet Airlines Inc.     ALB   \n",
       "754  2011     12      XE  ExpressJet Airlines Inc.     AMA   \n",
       "\n",
       "                                          airport_name  arr_flights  \\\n",
       "750  Allentown/Bethlehem/Easton, PA: Lehigh Valley ...        112.0   \n",
       "751  Albuquerque, NM: Albuquerque International Sun...        100.0   \n",
       "752           Alexandria, LA: Alexandria International         62.0   \n",
       "753                   Albany, NY: Albany International        123.0   \n",
       "754  Amarillo, TX: Rick Husband Amarillo International        165.0   \n",
       "\n",
       "     arr_del15  carrier_ct  weather_ct  ...  security_ct  late_aircraft_ct  \\\n",
       "750       17.0        4.86        0.00  ...          0.0              8.58   \n",
       "751       21.0        9.62        0.28  ...          0.0              8.28   \n",
       "752       14.0        6.20        0.00  ...          0.0              5.57   \n",
       "753        8.0        2.89        0.00  ...          0.0              2.60   \n",
       "754       41.0       12.19        2.25  ...          0.0             15.78   \n",
       "\n",
       "     arr_cancelled  arr_diverted  min_delay  carrier_delay  weather_delay  \\\n",
       "750            1.0           1.0     1132.0          330.0            0.0   \n",
       "751            2.0           0.0     1300.0          498.0           23.0   \n",
       "752            1.0           0.0      811.0          317.0            0.0   \n",
       "753            0.0           0.0      401.0          174.0            0.0   \n",
       "754           11.0           3.0     2538.0          681.0          136.0   \n",
       "\n",
       "     nas_delay  security_delay  late_aircraft_delay  \n",
       "750      103.0             0.0                699.0  \n",
       "751      161.0             0.0                618.0  \n",
       "752       62.0             0.0                432.0  \n",
       "753       78.0             0.0                149.0  \n",
       "754      658.0             0.0               1063.0  \n",
       "\n",
       "[5 rows x 21 columns]"
      ]
     },
     "execution_count": 24,
     "metadata": {},
     "output_type": "execute_result"
    }
   ],
   "source": [
    "dfxe.head()"
   ]
  },
  {
   "cell_type": "code",
   "execution_count": 25,
   "id": "7ef3ddba",
   "metadata": {},
   "outputs": [
    {
     "data": {
      "text/plain": [
       "array(['ExpressJet Airlines Inc.'], dtype=object)"
      ]
     },
     "execution_count": 25,
     "metadata": {},
     "output_type": "execute_result"
    }
   ],
   "source": [
    "dfxe['carrier_name'].unique()"
   ]
  },
  {
   "cell_type": "code",
   "execution_count": 26,
   "id": "f0b58fc6",
   "metadata": {},
   "outputs": [
    {
     "data": {
      "text/plain": [
       "array([2011], dtype=int64)"
      ]
     },
     "execution_count": 26,
     "metadata": {},
     "output_type": "execute_result"
    }
   ],
   "source": [
    "dfxe['year'].unique()"
   ]
  },
  {
   "cell_type": "markdown",
   "id": "63ddd048",
   "metadata": {},
   "source": [
    "There isn't any other airline than ExpressJet. There is no mention of JetSuiteX. Furthermore, the observations for XE are all from 2011. It seems like this is an error in the data compilation. I will replace XE with EV for these observations."
   ]
  },
  {
   "cell_type": "code",
   "execution_count": 27,
   "id": "1b750435",
   "metadata": {},
   "outputs": [],
   "source": [
    "delays.carrier.replace({'XE':'EV'}, inplace=True)"
   ]
  },
  {
   "cell_type": "code",
   "execution_count": 28,
   "id": "91eebc24",
   "metadata": {},
   "outputs": [
    {
     "data": {
      "text/plain": [
       "array(['DL', 'EV', 'F9', 'FL', 'HA', 'MQ', 'OO', 'UA', 'US', 'WN', 'YV',\n",
       "       'AA', 'AS', 'B6', 'VX', 'NK', 'OH', 'YX', '9E', 'G4', 'CO'],\n",
       "      dtype=object)"
      ]
     },
     "execution_count": 28,
     "metadata": {},
     "output_type": "execute_result"
    }
   ],
   "source": [
    "## XE has been replaced\n",
    "delays.carrier.unique()"
   ]
  },
  {
   "cell_type": "code",
   "execution_count": 29,
   "id": "51c33a4e",
   "metadata": {},
   "outputs": [],
   "source": [
    "delays.carrier_name.replace({'Pinnacle Airlines Inc.':'Endeavor Air Inc.', 'American Eagle Airlines Inc.':'Envoy Air'}, inplace=True)"
   ]
  },
  {
   "cell_type": "code",
   "execution_count": 30,
   "id": "44fa2e72",
   "metadata": {},
   "outputs": [
    {
     "data": {
      "text/html": [
       "<div>\n",
       "<style scoped>\n",
       "    .dataframe tbody tr th:only-of-type {\n",
       "        vertical-align: middle;\n",
       "    }\n",
       "\n",
       "    .dataframe tbody tr th {\n",
       "        vertical-align: top;\n",
       "    }\n",
       "\n",
       "    .dataframe thead th {\n",
       "        text-align: right;\n",
       "    }\n",
       "</style>\n",
       "<table border=\"1\" class=\"dataframe\">\n",
       "  <thead>\n",
       "    <tr style=\"text-align: right;\">\n",
       "      <th></th>\n",
       "      <th>year</th>\n",
       "      <th>month</th>\n",
       "      <th>carrier</th>\n",
       "      <th>carrier_name</th>\n",
       "      <th>airport</th>\n",
       "      <th>airport_name</th>\n",
       "      <th>arr_flights</th>\n",
       "      <th>arr_del15</th>\n",
       "      <th>carrier_ct</th>\n",
       "      <th>weather_ct</th>\n",
       "      <th>...</th>\n",
       "      <th>security_ct</th>\n",
       "      <th>late_aircraft_ct</th>\n",
       "      <th>arr_cancelled</th>\n",
       "      <th>arr_diverted</th>\n",
       "      <th>min_delay</th>\n",
       "      <th>carrier_delay</th>\n",
       "      <th>weather_delay</th>\n",
       "      <th>nas_delay</th>\n",
       "      <th>security_delay</th>\n",
       "      <th>late_aircraft_delay</th>\n",
       "    </tr>\n",
       "  </thead>\n",
       "  <tbody>\n",
       "    <tr>\n",
       "      <th>256</th>\n",
       "      <td>2011</td>\n",
       "      <td>12</td>\n",
       "      <td>MQ</td>\n",
       "      <td>Envoy Air</td>\n",
       "      <td>ABI</td>\n",
       "      <td>Abilene, TX: Abilene Regional</td>\n",
       "      <td>204.0</td>\n",
       "      <td>54.0</td>\n",
       "      <td>24.00</td>\n",
       "      <td>2.28</td>\n",
       "      <td>...</td>\n",
       "      <td>0.0</td>\n",
       "      <td>15.06</td>\n",
       "      <td>2.0</td>\n",
       "      <td>0.0</td>\n",
       "      <td>2229.0</td>\n",
       "      <td>864.0</td>\n",
       "      <td>131.0</td>\n",
       "      <td>389.0</td>\n",
       "      <td>0.0</td>\n",
       "      <td>845.0</td>\n",
       "    </tr>\n",
       "    <tr>\n",
       "      <th>257</th>\n",
       "      <td>2011</td>\n",
       "      <td>12</td>\n",
       "      <td>MQ</td>\n",
       "      <td>Envoy Air</td>\n",
       "      <td>ABQ</td>\n",
       "      <td>Albuquerque, NM: Albuquerque International Sun...</td>\n",
       "      <td>141.0</td>\n",
       "      <td>25.0</td>\n",
       "      <td>4.94</td>\n",
       "      <td>2.19</td>\n",
       "      <td>...</td>\n",
       "      <td>0.0</td>\n",
       "      <td>6.91</td>\n",
       "      <td>5.0</td>\n",
       "      <td>0.0</td>\n",
       "      <td>1030.0</td>\n",
       "      <td>129.0</td>\n",
       "      <td>133.0</td>\n",
       "      <td>363.0</td>\n",
       "      <td>0.0</td>\n",
       "      <td>405.0</td>\n",
       "    </tr>\n",
       "    <tr>\n",
       "      <th>258</th>\n",
       "      <td>2011</td>\n",
       "      <td>12</td>\n",
       "      <td>MQ</td>\n",
       "      <td>Envoy Air</td>\n",
       "      <td>AEX</td>\n",
       "      <td>Alexandria, LA: Alexandria International</td>\n",
       "      <td>91.0</td>\n",
       "      <td>18.0</td>\n",
       "      <td>4.49</td>\n",
       "      <td>1.91</td>\n",
       "      <td>...</td>\n",
       "      <td>0.0</td>\n",
       "      <td>4.20</td>\n",
       "      <td>0.0</td>\n",
       "      <td>0.0</td>\n",
       "      <td>885.0</td>\n",
       "      <td>171.0</td>\n",
       "      <td>124.0</td>\n",
       "      <td>395.0</td>\n",
       "      <td>0.0</td>\n",
       "      <td>195.0</td>\n",
       "    </tr>\n",
       "    <tr>\n",
       "      <th>259</th>\n",
       "      <td>2011</td>\n",
       "      <td>12</td>\n",
       "      <td>MQ</td>\n",
       "      <td>Envoy Air</td>\n",
       "      <td>AGS</td>\n",
       "      <td>Augusta, GA: Augusta Regional at Bush Field</td>\n",
       "      <td>58.0</td>\n",
       "      <td>13.0</td>\n",
       "      <td>6.71</td>\n",
       "      <td>1.73</td>\n",
       "      <td>...</td>\n",
       "      <td>0.0</td>\n",
       "      <td>2.36</td>\n",
       "      <td>0.0</td>\n",
       "      <td>0.0</td>\n",
       "      <td>515.0</td>\n",
       "      <td>200.0</td>\n",
       "      <td>122.0</td>\n",
       "      <td>87.0</td>\n",
       "      <td>0.0</td>\n",
       "      <td>106.0</td>\n",
       "    </tr>\n",
       "    <tr>\n",
       "      <th>260</th>\n",
       "      <td>2011</td>\n",
       "      <td>12</td>\n",
       "      <td>MQ</td>\n",
       "      <td>Envoy Air</td>\n",
       "      <td>AMA</td>\n",
       "      <td>Amarillo, TX: Rick Husband Amarillo International</td>\n",
       "      <td>161.0</td>\n",
       "      <td>37.0</td>\n",
       "      <td>12.36</td>\n",
       "      <td>6.79</td>\n",
       "      <td>...</td>\n",
       "      <td>0.0</td>\n",
       "      <td>10.69</td>\n",
       "      <td>5.0</td>\n",
       "      <td>2.0</td>\n",
       "      <td>1526.0</td>\n",
       "      <td>634.0</td>\n",
       "      <td>324.0</td>\n",
       "      <td>186.0</td>\n",
       "      <td>0.0</td>\n",
       "      <td>382.0</td>\n",
       "    </tr>\n",
       "  </tbody>\n",
       "</table>\n",
       "<p>5 rows × 21 columns</p>\n",
       "</div>"
      ],
      "text/plain": [
       "     year  month carrier carrier_name airport  \\\n",
       "256  2011     12      MQ    Envoy Air     ABI   \n",
       "257  2011     12      MQ    Envoy Air     ABQ   \n",
       "258  2011     12      MQ    Envoy Air     AEX   \n",
       "259  2011     12      MQ    Envoy Air     AGS   \n",
       "260  2011     12      MQ    Envoy Air     AMA   \n",
       "\n",
       "                                          airport_name  arr_flights  \\\n",
       "256                      Abilene, TX: Abilene Regional        204.0   \n",
       "257  Albuquerque, NM: Albuquerque International Sun...        141.0   \n",
       "258           Alexandria, LA: Alexandria International         91.0   \n",
       "259        Augusta, GA: Augusta Regional at Bush Field         58.0   \n",
       "260  Amarillo, TX: Rick Husband Amarillo International        161.0   \n",
       "\n",
       "     arr_del15  carrier_ct  weather_ct  ...  security_ct  late_aircraft_ct  \\\n",
       "256       54.0       24.00        2.28  ...          0.0             15.06   \n",
       "257       25.0        4.94        2.19  ...          0.0              6.91   \n",
       "258       18.0        4.49        1.91  ...          0.0              4.20   \n",
       "259       13.0        6.71        1.73  ...          0.0              2.36   \n",
       "260       37.0       12.36        6.79  ...          0.0             10.69   \n",
       "\n",
       "     arr_cancelled  arr_diverted  min_delay  carrier_delay  weather_delay  \\\n",
       "256            2.0           0.0     2229.0          864.0          131.0   \n",
       "257            5.0           0.0     1030.0          129.0          133.0   \n",
       "258            0.0           0.0      885.0          171.0          124.0   \n",
       "259            0.0           0.0      515.0          200.0          122.0   \n",
       "260            5.0           2.0     1526.0          634.0          324.0   \n",
       "\n",
       "     nas_delay  security_delay  late_aircraft_delay  \n",
       "256      389.0             0.0                845.0  \n",
       "257      363.0             0.0                405.0  \n",
       "258      395.0             0.0                195.0  \n",
       "259       87.0             0.0                106.0  \n",
       "260      186.0             0.0                382.0  \n",
       "\n",
       "[5 rows x 21 columns]"
      ]
     },
     "execution_count": 30,
     "metadata": {},
     "output_type": "execute_result"
    }
   ],
   "source": [
    "delays[delays['carrier'] == 'MQ'].head() "
   ]
  },
  {
   "cell_type": "code",
   "execution_count": 31,
   "id": "ad79478e",
   "metadata": {},
   "outputs": [
    {
     "data": {
      "text/plain": [
       "21"
      ]
     },
     "execution_count": 31,
     "metadata": {},
     "output_type": "execute_result"
    }
   ],
   "source": [
    "delays.carrier_name.nunique()"
   ]
  },
  {
   "cell_type": "code",
   "execution_count": 32,
   "id": "10ce7c07",
   "metadata": {},
   "outputs": [
    {
     "data": {
      "text/plain": [
       "21"
      ]
     },
     "execution_count": 32,
     "metadata": {},
     "output_type": "execute_result"
    }
   ],
   "source": [
    "delays.carrier.nunique()"
   ]
  },
  {
   "cell_type": "markdown",
   "id": "efdb23b5",
   "metadata": {},
   "source": [
    "*We now have the same number of carrier names as carrier codes.*"
   ]
  },
  {
   "cell_type": "code",
   "execution_count": null,
   "id": "10c87b0e",
   "metadata": {},
   "outputs": [],
   "source": []
  },
  {
   "cell_type": "markdown",
   "id": "66e70b43",
   "metadata": {},
   "source": [
    "#### `airport` & `airport_name`"
   ]
  },
  {
   "cell_type": "markdown",
   "id": "a708a0ae",
   "metadata": {},
   "source": [
    "The variable airport is the short form of name, whereas airport_name is the long form. There are 391 airports codes and airport names. This seems to be ok."
   ]
  },
  {
   "cell_type": "code",
   "execution_count": 33,
   "id": "3db98ce1",
   "metadata": {},
   "outputs": [
    {
     "data": {
      "text/plain": [
       "391"
      ]
     },
     "execution_count": 33,
     "metadata": {},
     "output_type": "execute_result"
    }
   ],
   "source": [
    "delays.airport.nunique()"
   ]
  },
  {
   "cell_type": "code",
   "execution_count": 34,
   "id": "8bbee924",
   "metadata": {},
   "outputs": [
    {
     "data": {
      "text/plain": [
       "391"
      ]
     },
     "execution_count": 34,
     "metadata": {},
     "output_type": "execute_result"
    }
   ],
   "source": [
    "delays.airport_name.nunique()"
   ]
  },
  {
   "cell_type": "markdown",
   "id": "eb540ecd",
   "metadata": {},
   "source": [
    "According to the BTS website, in December of 2020 of 87.09% of flights were on time, 11.72% were delayed, 1.04% were cancelled and 0.15% were diverted. Lets replicate this number and see if we understood the meaning of the variables correctly and if is necessary to generate transformations for further analysis."
   ]
  },
  {
   "cell_type": "code",
   "execution_count": 35,
   "id": "d3774cbd",
   "metadata": {},
   "outputs": [],
   "source": [
    "## Creating a smaller dataframe for analysis\n",
    "explore1=delays.filter(['arr_flights', 'arr_del15', 'arr_cancelled', 'arr_diverted'], axis=1)"
   ]
  },
  {
   "cell_type": "code",
   "execution_count": 36,
   "id": "b7b2ff0d",
   "metadata": {},
   "outputs": [
    {
     "data": {
      "text/html": [
       "<div>\n",
       "<style scoped>\n",
       "    .dataframe tbody tr th:only-of-type {\n",
       "        vertical-align: middle;\n",
       "    }\n",
       "\n",
       "    .dataframe tbody tr th {\n",
       "        vertical-align: top;\n",
       "    }\n",
       "\n",
       "    .dataframe thead th {\n",
       "        text-align: right;\n",
       "    }\n",
       "</style>\n",
       "<table border=\"1\" class=\"dataframe\">\n",
       "  <thead>\n",
       "    <tr style=\"text-align: right;\">\n",
       "      <th></th>\n",
       "      <th>arr_flights</th>\n",
       "      <th>arr_del15</th>\n",
       "      <th>arr_cancelled</th>\n",
       "      <th>arr_diverted</th>\n",
       "    </tr>\n",
       "  </thead>\n",
       "  <tbody>\n",
       "    <tr>\n",
       "      <th>0</th>\n",
       "      <td>396.0</td>\n",
       "      <td>34.0</td>\n",
       "      <td>0.0</td>\n",
       "      <td>0.0</td>\n",
       "    </tr>\n",
       "    <tr>\n",
       "      <th>1</th>\n",
       "      <td>42.0</td>\n",
       "      <td>4.0</td>\n",
       "      <td>0.0</td>\n",
       "      <td>0.0</td>\n",
       "    </tr>\n",
       "    <tr>\n",
       "      <th>2</th>\n",
       "      <td>3.0</td>\n",
       "      <td>0.0</td>\n",
       "      <td>0.0</td>\n",
       "      <td>0.0</td>\n",
       "    </tr>\n",
       "    <tr>\n",
       "      <th>3</th>\n",
       "      <td>55.0</td>\n",
       "      <td>5.0</td>\n",
       "      <td>0.0</td>\n",
       "      <td>1.0</td>\n",
       "    </tr>\n",
       "    <tr>\n",
       "      <th>4</th>\n",
       "      <td>31.0</td>\n",
       "      <td>5.0</td>\n",
       "      <td>0.0</td>\n",
       "      <td>0.0</td>\n",
       "    </tr>\n",
       "  </tbody>\n",
       "</table>\n",
       "</div>"
      ],
      "text/plain": [
       "   arr_flights  arr_del15  arr_cancelled  arr_diverted\n",
       "0        396.0       34.0            0.0           0.0\n",
       "1         42.0        4.0            0.0           0.0\n",
       "2          3.0        0.0            0.0           0.0\n",
       "3         55.0        5.0            0.0           1.0\n",
       "4         31.0        5.0            0.0           0.0"
      ]
     },
     "execution_count": 36,
     "metadata": {},
     "output_type": "execute_result"
    }
   ],
   "source": [
    "explore1.head(5)"
   ]
  },
  {
   "cell_type": "markdown",
   "id": "62f89b15",
   "metadata": {},
   "source": [
    "It seems that `arr_flights` is the amount of total flights. Although variables are floats, they are really whole numbers. We need a column that represents number of flights that arrived on time."
   ]
  },
  {
   "cell_type": "markdown",
   "id": "63632c93",
   "metadata": {},
   "source": [
    "Creating the `arr_ontime` variable is going to make it easier to determine which rows we'll need to drop because of missing values. "
   ]
  },
  {
   "cell_type": "code",
   "execution_count": 37,
   "id": "db2ce4ee",
   "metadata": {},
   "outputs": [],
   "source": [
    "## This new variable would be the difference between total and other categories\n",
    "delays['arr_ontime']=delays['arr_flights']-delays['arr_del15']-delays['arr_diverted']-delays['arr_cancelled']"
   ]
  },
  {
   "cell_type": "code",
   "execution_count": 38,
   "id": "b47ae241",
   "metadata": {},
   "outputs": [],
   "source": [
    "explore2=delays.filter(['arr_flights','arr_ontime','arr_del15', 'arr_cancelled', 'arr_diverted'], axis=1)"
   ]
  },
  {
   "cell_type": "code",
   "execution_count": 39,
   "id": "d033989f",
   "metadata": {},
   "outputs": [
    {
     "data": {
      "text/html": [
       "<div>\n",
       "<style scoped>\n",
       "    .dataframe tbody tr th:only-of-type {\n",
       "        vertical-align: middle;\n",
       "    }\n",
       "\n",
       "    .dataframe tbody tr th {\n",
       "        vertical-align: top;\n",
       "    }\n",
       "\n",
       "    .dataframe thead th {\n",
       "        text-align: right;\n",
       "    }\n",
       "</style>\n",
       "<table border=\"1\" class=\"dataframe\">\n",
       "  <thead>\n",
       "    <tr style=\"text-align: right;\">\n",
       "      <th></th>\n",
       "      <th>arr_flights</th>\n",
       "      <th>arr_ontime</th>\n",
       "      <th>arr_del15</th>\n",
       "      <th>arr_cancelled</th>\n",
       "      <th>arr_diverted</th>\n",
       "    </tr>\n",
       "  </thead>\n",
       "  <tbody>\n",
       "    <tr>\n",
       "      <th>0</th>\n",
       "      <td>396.0</td>\n",
       "      <td>362.0</td>\n",
       "      <td>34.0</td>\n",
       "      <td>0.0</td>\n",
       "      <td>0.0</td>\n",
       "    </tr>\n",
       "    <tr>\n",
       "      <th>1</th>\n",
       "      <td>42.0</td>\n",
       "      <td>38.0</td>\n",
       "      <td>4.0</td>\n",
       "      <td>0.0</td>\n",
       "      <td>0.0</td>\n",
       "    </tr>\n",
       "    <tr>\n",
       "      <th>2</th>\n",
       "      <td>3.0</td>\n",
       "      <td>3.0</td>\n",
       "      <td>0.0</td>\n",
       "      <td>0.0</td>\n",
       "      <td>0.0</td>\n",
       "    </tr>\n",
       "    <tr>\n",
       "      <th>3</th>\n",
       "      <td>55.0</td>\n",
       "      <td>49.0</td>\n",
       "      <td>5.0</td>\n",
       "      <td>0.0</td>\n",
       "      <td>1.0</td>\n",
       "    </tr>\n",
       "    <tr>\n",
       "      <th>4</th>\n",
       "      <td>31.0</td>\n",
       "      <td>26.0</td>\n",
       "      <td>5.0</td>\n",
       "      <td>0.0</td>\n",
       "      <td>0.0</td>\n",
       "    </tr>\n",
       "  </tbody>\n",
       "</table>\n",
       "</div>"
      ],
      "text/plain": [
       "   arr_flights  arr_ontime  arr_del15  arr_cancelled  arr_diverted\n",
       "0        396.0       362.0       34.0            0.0           0.0\n",
       "1         42.0        38.0        4.0            0.0           0.0\n",
       "2          3.0         3.0        0.0            0.0           0.0\n",
       "3         55.0        49.0        5.0            0.0           1.0\n",
       "4         31.0        26.0        5.0            0.0           0.0"
      ]
     },
     "execution_count": 39,
     "metadata": {},
     "output_type": "execute_result"
    }
   ],
   "source": [
    "explore2.head()"
   ]
  },
  {
   "cell_type": "markdown",
   "id": "fa0413c7",
   "metadata": {},
   "source": [
    "*Now, replicating the numbers for December 2020.*"
   ]
  },
  {
   "cell_type": "code",
   "execution_count": 40,
   "id": "ddf9f5bb",
   "metadata": {},
   "outputs": [],
   "source": [
    "df_dec20 =delays[(delays.year == 2020) & (delays.month == 12)]"
   ]
  },
  {
   "cell_type": "code",
   "execution_count": 41,
   "id": "9a8ab52f",
   "metadata": {},
   "outputs": [
    {
     "data": {
      "text/plain": [
       "0.8708816583503206"
      ]
     },
     "execution_count": 41,
     "metadata": {},
     "output_type": "execute_result"
    }
   ],
   "source": [
    "## Calculating the share of flights that arrived on time\n",
    "df_dec20.arr_ontime.sum()/df_dec20.arr_flights.sum()"
   ]
  },
  {
   "cell_type": "markdown",
   "id": "f9b7c824",
   "metadata": {},
   "source": [
    "We were able to replicate the 87.09% from the BTS website for flights ontime. The variable `arr_ontime` is, therefore, representative of what we wanted to analyze. Other variables are replicated as well."
   ]
  },
  {
   "cell_type": "markdown",
   "id": "6aeadbaf",
   "metadata": {},
   "source": [
    "### Splitting a variable into separate ones with `str.split()`"
   ]
  },
  {
   "cell_type": "markdown",
   "id": "e986ee7a",
   "metadata": {},
   "source": [
    "It would be helpful for future analysis to have the name and state where the airports are located in separate columns. We can extract city and state from `aiport_name`."
   ]
  },
  {
   "cell_type": "code",
   "execution_count": 42,
   "id": "b0d85155",
   "metadata": {},
   "outputs": [
    {
     "data": {
      "text/plain": [
       "0             St. Louis, MO: St Louis Lambert International\n",
       "1                        Charlotte Amalie, VI: Cyril E King\n",
       "2                       Christiansted, VI: Henry E. Rohlsen\n",
       "3              Syracuse, NY: Syracuse Hancock International\n",
       "4                Tallahassee, FL: Tallahassee International\n",
       "                                ...                        \n",
       "158335                 Richmond, VA: Richmond International\n",
       "158336    Roanoke, VA: Roanoke Blacksburg Regional Woodr...\n",
       "158337       Rochester, NY: Greater Rochester International\n",
       "158338               Rochester, MN: Rochester International\n",
       "158339           San Antonio, TX: San Antonio International\n",
       "Name: airport_name, Length: 158340, dtype: object"
      ]
     },
     "execution_count": 42,
     "metadata": {},
     "output_type": "execute_result"
    }
   ],
   "source": [
    "delays['airport_name']"
   ]
  },
  {
   "cell_type": "code",
   "execution_count": 43,
   "id": "6d645ce4",
   "metadata": {},
   "outputs": [],
   "source": [
    "## Splitting airport name in two different columns, to the right and left of the semicolon\n",
    "delays[['city_state', 'long_name']] = delays['airport_name'].str.split(':', expand=True)"
   ]
  },
  {
   "cell_type": "code",
   "execution_count": 44,
   "id": "135d414b",
   "metadata": {},
   "outputs": [],
   "source": [
    "### Now, extracting city and state from city_state\n",
    "delays[['city', 'state']] = delays['city_state'].str.split(',', expand=True)"
   ]
  },
  {
   "cell_type": "code",
   "execution_count": 45,
   "id": "74d4f762",
   "metadata": {},
   "outputs": [
    {
     "name": "stdout",
     "output_type": "stream",
     "text": [
      "<class 'pandas.core.frame.DataFrame'>\n",
      "RangeIndex: 158340 entries, 0 to 158339\n",
      "Data columns (total 26 columns):\n",
      " #   Column               Non-Null Count   Dtype  \n",
      "---  ------               --------------   -----  \n",
      " 0   year                 158340 non-null  int64  \n",
      " 1   month                158340 non-null  int64  \n",
      " 2   carrier              158340 non-null  object \n",
      " 3   carrier_name         158340 non-null  object \n",
      " 4   airport              158340 non-null  object \n",
      " 5   airport_name         158340 non-null  object \n",
      " 6   arr_flights          158102 non-null  float64\n",
      " 7   arr_del15            157906 non-null  float64\n",
      " 8   carrier_ct           158102 non-null  float64\n",
      " 9   weather_ct           158102 non-null  float64\n",
      " 10  nas_ct               158102 non-null  float64\n",
      " 11  security_ct          158102 non-null  float64\n",
      " 12  late_aircraft_ct     158102 non-null  float64\n",
      " 13  arr_cancelled        158102 non-null  float64\n",
      " 14  arr_diverted         158102 non-null  float64\n",
      " 15  min_delay            158102 non-null  float64\n",
      " 16  carrier_delay        158102 non-null  float64\n",
      " 17  weather_delay        158102 non-null  float64\n",
      " 18  nas_delay            158102 non-null  float64\n",
      " 19  security_delay       158102 non-null  float64\n",
      " 20  late_aircraft_delay  158102 non-null  float64\n",
      " 21  arr_ontime           157906 non-null  float64\n",
      " 22  city_state           158340 non-null  object \n",
      " 23  long_name            158340 non-null  object \n",
      " 24  city                 158340 non-null  object \n",
      " 25  state                158340 non-null  object \n",
      "dtypes: float64(16), int64(2), object(8)\n",
      "memory usage: 31.4+ MB\n"
     ]
    }
   ],
   "source": [
    "delays.info()"
   ]
  },
  {
   "cell_type": "code",
   "execution_count": 46,
   "id": "e6059825",
   "metadata": {},
   "outputs": [
    {
     "data": {
      "text/html": [
       "<div>\n",
       "<style scoped>\n",
       "    .dataframe tbody tr th:only-of-type {\n",
       "        vertical-align: middle;\n",
       "    }\n",
       "\n",
       "    .dataframe tbody tr th {\n",
       "        vertical-align: top;\n",
       "    }\n",
       "\n",
       "    .dataframe thead th {\n",
       "        text-align: right;\n",
       "    }\n",
       "</style>\n",
       "<table border=\"1\" class=\"dataframe\">\n",
       "  <thead>\n",
       "    <tr style=\"text-align: right;\">\n",
       "      <th></th>\n",
       "      <th>long_name</th>\n",
       "      <th>city</th>\n",
       "      <th>state</th>\n",
       "    </tr>\n",
       "  </thead>\n",
       "  <tbody>\n",
       "    <tr>\n",
       "      <th>0</th>\n",
       "      <td>St Louis Lambert International</td>\n",
       "      <td>St. Louis</td>\n",
       "      <td>MO</td>\n",
       "    </tr>\n",
       "    <tr>\n",
       "      <th>1</th>\n",
       "      <td>Cyril E King</td>\n",
       "      <td>Charlotte Amalie</td>\n",
       "      <td>VI</td>\n",
       "    </tr>\n",
       "    <tr>\n",
       "      <th>2</th>\n",
       "      <td>Henry E. Rohlsen</td>\n",
       "      <td>Christiansted</td>\n",
       "      <td>VI</td>\n",
       "    </tr>\n",
       "  </tbody>\n",
       "</table>\n",
       "</div>"
      ],
      "text/plain": [
       "                         long_name              city state\n",
       "0   St Louis Lambert International         St. Louis    MO\n",
       "1                     Cyril E King  Charlotte Amalie    VI\n",
       "2                 Henry E. Rohlsen     Christiansted    VI"
      ]
     },
     "execution_count": 46,
     "metadata": {},
     "output_type": "execute_result"
    }
   ],
   "source": [
    "## Let's check the results quickly\n",
    "delays[['long_name', 'city', 'state']].head(3)"
   ]
  },
  {
   "cell_type": "markdown",
   "id": "92a38695",
   "metadata": {},
   "source": [
    "This looks ok. So we can drop the redundant columns. "
   ]
  },
  {
   "cell_type": "code",
   "execution_count": 47,
   "id": "ed0125bb",
   "metadata": {},
   "outputs": [],
   "source": [
    "delays = delays.drop(columns=['city_state', 'airport_name'])"
   ]
  },
  {
   "cell_type": "code",
   "execution_count": 48,
   "id": "9d3697a3",
   "metadata": {},
   "outputs": [],
   "source": [
    "## Renaming a column\n",
    "delays.rename(columns={'long_name': 'airport_name'}, inplace=True)"
   ]
  },
  {
   "cell_type": "code",
   "execution_count": 49,
   "id": "ac7e1d7a",
   "metadata": {},
   "outputs": [
    {
     "name": "stdout",
     "output_type": "stream",
     "text": [
      "<class 'pandas.core.frame.DataFrame'>\n",
      "RangeIndex: 158340 entries, 0 to 158339\n",
      "Data columns (total 24 columns):\n",
      " #   Column               Non-Null Count   Dtype  \n",
      "---  ------               --------------   -----  \n",
      " 0   year                 158340 non-null  int64  \n",
      " 1   month                158340 non-null  int64  \n",
      " 2   carrier              158340 non-null  object \n",
      " 3   carrier_name         158340 non-null  object \n",
      " 4   airport              158340 non-null  object \n",
      " 5   arr_flights          158102 non-null  float64\n",
      " 6   arr_del15            157906 non-null  float64\n",
      " 7   carrier_ct           158102 non-null  float64\n",
      " 8   weather_ct           158102 non-null  float64\n",
      " 9   nas_ct               158102 non-null  float64\n",
      " 10  security_ct          158102 non-null  float64\n",
      " 11  late_aircraft_ct     158102 non-null  float64\n",
      " 12  arr_cancelled        158102 non-null  float64\n",
      " 13  arr_diverted         158102 non-null  float64\n",
      " 14  min_delay            158102 non-null  float64\n",
      " 15  carrier_delay        158102 non-null  float64\n",
      " 16  weather_delay        158102 non-null  float64\n",
      " 17  nas_delay            158102 non-null  float64\n",
      " 18  security_delay       158102 non-null  float64\n",
      " 19  late_aircraft_delay  158102 non-null  float64\n",
      " 20  arr_ontime           157906 non-null  float64\n",
      " 21  airport_name         158340 non-null  object \n",
      " 22  city                 158340 non-null  object \n",
      " 23  state                158340 non-null  object \n",
      "dtypes: float64(16), int64(2), object(6)\n",
      "memory usage: 29.0+ MB\n"
     ]
    }
   ],
   "source": [
    "delays.info()"
   ]
  },
  {
   "cell_type": "markdown",
   "id": "2c4efe51",
   "metadata": {},
   "source": [
    "### Drop missing values with `dropna()`"
   ]
  },
  {
   "cell_type": "markdown",
   "id": "2a742130",
   "metadata": {},
   "source": [
    "Next, let's check for null values, analyze their causes and take the necessary action. "
   ]
  },
  {
   "cell_type": "code",
   "execution_count": 50,
   "id": "c6d078a2",
   "metadata": {},
   "outputs": [
    {
     "data": {
      "text/plain": [
       "year                     0\n",
       "month                    0\n",
       "carrier                  0\n",
       "carrier_name             0\n",
       "airport                  0\n",
       "arr_flights            238\n",
       "arr_del15              434\n",
       "carrier_ct             238\n",
       "weather_ct             238\n",
       "nas_ct                 238\n",
       "security_ct            238\n",
       "late_aircraft_ct       238\n",
       "arr_cancelled          238\n",
       "arr_diverted           238\n",
       "min_delay              238\n",
       "carrier_delay          238\n",
       "weather_delay          238\n",
       "nas_delay              238\n",
       "security_delay         238\n",
       "late_aircraft_delay    238\n",
       "arr_ontime             434\n",
       "airport_name             0\n",
       "city                     0\n",
       "state                    0\n",
       "dtype: int64"
      ]
     },
     "execution_count": 50,
     "metadata": {},
     "output_type": "execute_result"
    }
   ],
   "source": [
    "## this command line determines the number of nulls in each column \n",
    "delays.isna().sum()"
   ]
  },
  {
   "cell_type": "markdown",
   "id": "affc4b50",
   "metadata": {},
   "source": [
    "`arr_del15` has 434 missing values (0.3% of the total) and as a consequence, the recently created `arr_ontime`. Any analysis of number of delayed flights will need to exclude the months/airports that don't have information. Other delay related values have 238 missing values. Since these numbers are small in terms of the sample size, we will delete these observations. "
   ]
  },
  {
   "cell_type": "code",
   "execution_count": 51,
   "id": "40c89d06",
   "metadata": {},
   "outputs": [],
   "source": [
    "## This command line deletes all rows with missing values \n",
    "delays.dropna(axis=0, inplace=True)"
   ]
  },
  {
   "cell_type": "code",
   "execution_count": 52,
   "id": "d51097a7",
   "metadata": {},
   "outputs": [
    {
     "data": {
      "text/plain": [
       "year                   0\n",
       "month                  0\n",
       "carrier                0\n",
       "carrier_name           0\n",
       "airport                0\n",
       "arr_flights            0\n",
       "arr_del15              0\n",
       "carrier_ct             0\n",
       "weather_ct             0\n",
       "nas_ct                 0\n",
       "security_ct            0\n",
       "late_aircraft_ct       0\n",
       "arr_cancelled          0\n",
       "arr_diverted           0\n",
       "min_delay              0\n",
       "carrier_delay          0\n",
       "weather_delay          0\n",
       "nas_delay              0\n",
       "security_delay         0\n",
       "late_aircraft_delay    0\n",
       "arr_ontime             0\n",
       "airport_name           0\n",
       "city                   0\n",
       "state                  0\n",
       "dtype: int64"
      ]
     },
     "execution_count": 52,
     "metadata": {},
     "output_type": "execute_result"
    }
   ],
   "source": [
    "delays.isna().sum()"
   ]
  },
  {
   "cell_type": "code",
   "execution_count": 53,
   "id": "f56fae69",
   "metadata": {},
   "outputs": [
    {
     "data": {
      "text/plain": [
       "(157906, 24)"
      ]
     },
     "execution_count": 53,
     "metadata": {},
     "output_type": "execute_result"
    }
   ],
   "source": [
    "delays.shape"
   ]
  },
  {
   "cell_type": "markdown",
   "id": "96e7acda",
   "metadata": {},
   "source": [
    "**There are no more nan values. The final dataset has 157906 observations.**"
   ]
  },
  {
   "cell_type": "markdown",
   "id": "eb4695f1",
   "metadata": {},
   "source": [
    "## Feature engineering"
   ]
  },
  {
   "cell_type": "markdown",
   "id": "a5e18bf0",
   "metadata": {},
   "source": [
    "### Creating percentage variables for ontime and delay categories"
   ]
  },
  {
   "cell_type": "markdown",
   "id": "450bacb3",
   "metadata": {},
   "source": [
    "Percentage variables for the four flight status: ontime, delayed, diverted or cancelled, will be particularly useful to create visualizations. In this section, we add them to the dataframe. "
   ]
  },
  {
   "cell_type": "code",
   "execution_count": 54,
   "id": "cb1c250e",
   "metadata": {},
   "outputs": [],
   "source": [
    "delays['perontime']=delays['arr_ontime']/delays['arr_flights']\n",
    "delays['perdelay']=delays['arr_del15']/delays['arr_flights']\n",
    "delays['percancelled']=delays['arr_cancelled']/delays['arr_flights']\n",
    "delays['perdiverted']=delays['arr_diverted']/delays['arr_flights']"
   ]
  },
  {
   "cell_type": "code",
   "execution_count": 55,
   "id": "f44ff6ef",
   "metadata": {},
   "outputs": [
    {
     "name": "stdout",
     "output_type": "stream",
     "text": [
      "<class 'pandas.core.frame.DataFrame'>\n",
      "Int64Index: 157906 entries, 0 to 158339\n",
      "Data columns (total 28 columns):\n",
      " #   Column               Non-Null Count   Dtype  \n",
      "---  ------               --------------   -----  \n",
      " 0   year                 157906 non-null  int64  \n",
      " 1   month                157906 non-null  int64  \n",
      " 2   carrier              157906 non-null  object \n",
      " 3   carrier_name         157906 non-null  object \n",
      " 4   airport              157906 non-null  object \n",
      " 5   arr_flights          157906 non-null  float64\n",
      " 6   arr_del15            157906 non-null  float64\n",
      " 7   carrier_ct           157906 non-null  float64\n",
      " 8   weather_ct           157906 non-null  float64\n",
      " 9   nas_ct               157906 non-null  float64\n",
      " 10  security_ct          157906 non-null  float64\n",
      " 11  late_aircraft_ct     157906 non-null  float64\n",
      " 12  arr_cancelled        157906 non-null  float64\n",
      " 13  arr_diverted         157906 non-null  float64\n",
      " 14  min_delay            157906 non-null  float64\n",
      " 15  carrier_delay        157906 non-null  float64\n",
      " 16  weather_delay        157906 non-null  float64\n",
      " 17  nas_delay            157906 non-null  float64\n",
      " 18  security_delay       157906 non-null  float64\n",
      " 19  late_aircraft_delay  157906 non-null  float64\n",
      " 20  arr_ontime           157906 non-null  float64\n",
      " 21  airport_name         157906 non-null  object \n",
      " 22  city                 157906 non-null  object \n",
      " 23  state                157906 non-null  object \n",
      " 24  perontime            157906 non-null  float64\n",
      " 25  perdelay             157906 non-null  float64\n",
      " 26  percancelled         157906 non-null  float64\n",
      " 27  perdiverted          157906 non-null  float64\n",
      "dtypes: float64(20), int64(2), object(6)\n",
      "memory usage: 34.9+ MB\n"
     ]
    }
   ],
   "source": [
    "delays.info()"
   ]
  },
  {
   "cell_type": "markdown",
   "id": "eb3e27ee",
   "metadata": {},
   "source": [
    "The variable `arr_del15` is the number of flights that were delayed. The _ct variables are the counts of the causes of why flights were delayed. The sum of _ct variables is equal to `arr_del15`. The variables are floats instead of integers becuase airlines must have attributed more than one cause in percentages to several flights. Another helpful view for visualizations would be to have the percentages of causes attributed for each type of delay."
   ]
  },
  {
   "cell_type": "markdown",
   "id": "224ded5a",
   "metadata": {},
   "source": [
    "To understand the true effects of weather on delays, we need to dive a bit deeper. According to the BTS website, https://www.bts.dot.gov/topics/airlines-and-airports/understanding-reporting-causes-flight-delays-and-cancellations\n",
    "\"A true picture of total weather-related delays requires several steps. First, the extreme weather delays must be combined with the NAS weather category. Second, a calculation must be made to determine the weather-related delays included in the \"late-arriving aircraft\" category. Airlines do not report the causes of the late-arriving aircraft but an allocation can be made using the proportion of weather related-delays and total flights in the other categories. Adding the weather-related delays to the extreme weather and NAS weather categories would result in weather's share of all flight delays\".\n",
    "\n",
    "Furthermore, according to BTS, \"Delays or cancellations coded \"NAS\" are the type of weather delays that could be reduced with corrective action by the airports or the Federal Aviation Administration. During 2020, 45.8% of NAS delays were due to weather. NAS delays were 33.4% of total delays in 2020.\"\n",
    "\n",
    "Although, NAS is an important factor in determining weather delays, the data set does not provide a vector with the share of NAS delays attributed to weather accross time. Hence, we cannot use this only point estimate from 2020 and attribute it to the whole dataset. Furthermore, the share of \"late-arriving aircraft\" seems to also be dependent on this first correction. Deriving conclusions from such an approximation would be innacurate. Hence, the cause of delays data will be analyzed at face value, across time, seasonality, carriers and airports, with the caveat that we now know that an important part of other delay causes are also weather related."
   ]
  },
  {
   "cell_type": "code",
   "execution_count": 56,
   "id": "4d9283c0",
   "metadata": {},
   "outputs": [],
   "source": [
    "delays['per_car_delay']=delays['carrier_delay']/delays['min_delay']\n",
    "delays['per_wea_delay']=delays['weather_delay']/delays['min_delay']\n",
    "delays['per_nas_delay']=delays['nas_delay']/delays['min_delay']\n",
    "delays['per_sec_delay']=delays['security_delay']/delays['min_delay']\n",
    "delays['per_late_delay']=delays['late_aircraft_delay']/delays['min_delay']"
   ]
  },
  {
   "cell_type": "code",
   "execution_count": 57,
   "id": "bbfe3bde",
   "metadata": {},
   "outputs": [
    {
     "name": "stdout",
     "output_type": "stream",
     "text": [
      "<class 'pandas.core.frame.DataFrame'>\n",
      "Int64Index: 157906 entries, 0 to 158339\n",
      "Data columns (total 33 columns):\n",
      " #   Column               Non-Null Count   Dtype  \n",
      "---  ------               --------------   -----  \n",
      " 0   year                 157906 non-null  int64  \n",
      " 1   month                157906 non-null  int64  \n",
      " 2   carrier              157906 non-null  object \n",
      " 3   carrier_name         157906 non-null  object \n",
      " 4   airport              157906 non-null  object \n",
      " 5   arr_flights          157906 non-null  float64\n",
      " 6   arr_del15            157906 non-null  float64\n",
      " 7   carrier_ct           157906 non-null  float64\n",
      " 8   weather_ct           157906 non-null  float64\n",
      " 9   nas_ct               157906 non-null  float64\n",
      " 10  security_ct          157906 non-null  float64\n",
      " 11  late_aircraft_ct     157906 non-null  float64\n",
      " 12  arr_cancelled        157906 non-null  float64\n",
      " 13  arr_diverted         157906 non-null  float64\n",
      " 14  min_delay            157906 non-null  float64\n",
      " 15  carrier_delay        157906 non-null  float64\n",
      " 16  weather_delay        157906 non-null  float64\n",
      " 17  nas_delay            157906 non-null  float64\n",
      " 18  security_delay       157906 non-null  float64\n",
      " 19  late_aircraft_delay  157906 non-null  float64\n",
      " 20  arr_ontime           157906 non-null  float64\n",
      " 21  airport_name         157906 non-null  object \n",
      " 22  city                 157906 non-null  object \n",
      " 23  state                157906 non-null  object \n",
      " 24  perontime            157906 non-null  float64\n",
      " 25  perdelay             157906 non-null  float64\n",
      " 26  percancelled         157906 non-null  float64\n",
      " 27  perdiverted          157906 non-null  float64\n",
      " 28  per_car_delay        152266 non-null  float64\n",
      " 29  per_wea_delay        152266 non-null  float64\n",
      " 30  per_nas_delay        152266 non-null  float64\n",
      " 31  per_sec_delay        152266 non-null  float64\n",
      " 32  per_late_delay       152266 non-null  float64\n",
      "dtypes: float64(25), int64(2), object(6)\n",
      "memory usage: 41.0+ MB\n"
     ]
    }
   ],
   "source": [
    "delays.info()"
   ]
  },
  {
   "cell_type": "markdown",
   "id": "9cbe7f09",
   "metadata": {},
   "source": [
    "Some `min_delays` could have been zeros, creating several NaN in the new variables. We will fill them out with zeros. "
   ]
  },
  {
   "cell_type": "code",
   "execution_count": 58,
   "id": "a28aa984",
   "metadata": {},
   "outputs": [],
   "source": [
    "delays ['per_car_delay'] = delays['per_car_delay'].fillna(0)\n",
    "delays ['per_wea_delay'] = delays['per_wea_delay'].fillna(0)\n",
    "delays ['per_nas_delay'] = delays['per_nas_delay'].fillna(0)\n",
    "delays ['per_sec_delay'] = delays['per_sec_delay'].fillna(0)\n",
    "delays ['per_late_delay'] = delays['per_late_delay'].fillna(0)"
   ]
  },
  {
   "cell_type": "code",
   "execution_count": 59,
   "id": "684526f7",
   "metadata": {},
   "outputs": [
    {
     "name": "stdout",
     "output_type": "stream",
     "text": [
      "<class 'pandas.core.frame.DataFrame'>\n",
      "Int64Index: 157906 entries, 0 to 158339\n",
      "Data columns (total 33 columns):\n",
      " #   Column               Non-Null Count   Dtype  \n",
      "---  ------               --------------   -----  \n",
      " 0   year                 157906 non-null  int64  \n",
      " 1   month                157906 non-null  int64  \n",
      " 2   carrier              157906 non-null  object \n",
      " 3   carrier_name         157906 non-null  object \n",
      " 4   airport              157906 non-null  object \n",
      " 5   arr_flights          157906 non-null  float64\n",
      " 6   arr_del15            157906 non-null  float64\n",
      " 7   carrier_ct           157906 non-null  float64\n",
      " 8   weather_ct           157906 non-null  float64\n",
      " 9   nas_ct               157906 non-null  float64\n",
      " 10  security_ct          157906 non-null  float64\n",
      " 11  late_aircraft_ct     157906 non-null  float64\n",
      " 12  arr_cancelled        157906 non-null  float64\n",
      " 13  arr_diverted         157906 non-null  float64\n",
      " 14  min_delay            157906 non-null  float64\n",
      " 15  carrier_delay        157906 non-null  float64\n",
      " 16  weather_delay        157906 non-null  float64\n",
      " 17  nas_delay            157906 non-null  float64\n",
      " 18  security_delay       157906 non-null  float64\n",
      " 19  late_aircraft_delay  157906 non-null  float64\n",
      " 20  arr_ontime           157906 non-null  float64\n",
      " 21  airport_name         157906 non-null  object \n",
      " 22  city                 157906 non-null  object \n",
      " 23  state                157906 non-null  object \n",
      " 24  perontime            157906 non-null  float64\n",
      " 25  perdelay             157906 non-null  float64\n",
      " 26  percancelled         157906 non-null  float64\n",
      " 27  perdiverted          157906 non-null  float64\n",
      " 28  per_car_delay        157906 non-null  float64\n",
      " 29  per_wea_delay        157906 non-null  float64\n",
      " 30  per_nas_delay        157906 non-null  float64\n",
      " 31  per_sec_delay        157906 non-null  float64\n",
      " 32  per_late_delay       157906 non-null  float64\n",
      "dtypes: float64(25), int64(2), object(6)\n",
      "memory usage: 41.0+ MB\n"
     ]
    }
   ],
   "source": [
    "delays.info()"
   ]
  },
  {
   "cell_type": "code",
   "execution_count": 60,
   "id": "1daedb62",
   "metadata": {},
   "outputs": [
    {
     "data": {
      "text/plain": [
       "year                   0\n",
       "month                  0\n",
       "carrier                0\n",
       "carrier_name           0\n",
       "airport                0\n",
       "arr_flights            0\n",
       "arr_del15              0\n",
       "carrier_ct             0\n",
       "weather_ct             0\n",
       "nas_ct                 0\n",
       "security_ct            0\n",
       "late_aircraft_ct       0\n",
       "arr_cancelled          0\n",
       "arr_diverted           0\n",
       "min_delay              0\n",
       "carrier_delay          0\n",
       "weather_delay          0\n",
       "nas_delay              0\n",
       "security_delay         0\n",
       "late_aircraft_delay    0\n",
       "arr_ontime             0\n",
       "airport_name           0\n",
       "city                   0\n",
       "state                  0\n",
       "perontime              0\n",
       "perdelay               0\n",
       "percancelled           0\n",
       "perdiverted            0\n",
       "per_car_delay          0\n",
       "per_wea_delay          0\n",
       "per_nas_delay          0\n",
       "per_sec_delay          0\n",
       "per_late_delay         0\n",
       "dtype: int64"
      ]
     },
     "execution_count": 60,
     "metadata": {},
     "output_type": "execute_result"
    }
   ],
   "source": [
    "delays.isna().sum()"
   ]
  },
  {
   "cell_type": "markdown",
   "id": "8cb9a778",
   "metadata": {},
   "source": [
    "### Adding latitude and longitude to the dataframe using dictionaries"
   ]
  },
  {
   "cell_type": "markdown",
   "id": "3db4132f",
   "metadata": {},
   "source": [
    "Having the latitude and longitude in the dataframe could be useful for geopandas visualizations. I will read in a separate csv file that has aiport codes and their latitudes and longitudes  "
   ]
  },
  {
   "cell_type": "code",
   "execution_count": 61,
   "id": "b446b195",
   "metadata": {},
   "outputs": [],
   "source": [
    "lat_long= pd.read_csv('airport_latlong.csv', sep=\";\")"
   ]
  },
  {
   "cell_type": "code",
   "execution_count": 62,
   "id": "5d98538b",
   "metadata": {},
   "outputs": [
    {
     "data": {
      "text/html": [
       "<div>\n",
       "<style scoped>\n",
       "    .dataframe tbody tr th:only-of-type {\n",
       "        vertical-align: middle;\n",
       "    }\n",
       "\n",
       "    .dataframe tbody tr th {\n",
       "        vertical-align: top;\n",
       "    }\n",
       "\n",
       "    .dataframe thead th {\n",
       "        text-align: right;\n",
       "    }\n",
       "</style>\n",
       "<table border=\"1\" class=\"dataframe\">\n",
       "  <thead>\n",
       "    <tr style=\"text-align: right;\">\n",
       "      <th></th>\n",
       "      <th>airport</th>\n",
       "      <th>latitude</th>\n",
       "      <th>longitude</th>\n",
       "    </tr>\n",
       "  </thead>\n",
       "  <tbody>\n",
       "    <tr>\n",
       "      <th>0</th>\n",
       "      <td>ABE</td>\n",
       "      <td>40.652100</td>\n",
       "      <td>-75.440804</td>\n",
       "    </tr>\n",
       "    <tr>\n",
       "      <th>1</th>\n",
       "      <td>ABI</td>\n",
       "      <td>32.411301</td>\n",
       "      <td>-99.681900</td>\n",
       "    </tr>\n",
       "    <tr>\n",
       "      <th>2</th>\n",
       "      <td>ABQ</td>\n",
       "      <td>35.040199</td>\n",
       "      <td>-106.609001</td>\n",
       "    </tr>\n",
       "  </tbody>\n",
       "</table>\n",
       "</div>"
      ],
      "text/plain": [
       "  airport   latitude   longitude\n",
       "0     ABE  40.652100  -75.440804\n",
       "1     ABI  32.411301  -99.681900\n",
       "2     ABQ  35.040199 -106.609001"
      ]
     },
     "execution_count": 62,
     "metadata": {},
     "output_type": "execute_result"
    }
   ],
   "source": [
    "lat_long.head(3)"
   ]
  },
  {
   "cell_type": "code",
   "execution_count": 63,
   "id": "edcebd54",
   "metadata": {},
   "outputs": [],
   "source": [
    "### creating a latitude dictionary\n",
    "### https://cmdlinetips.com/2021/04/convert-two-column-values-from-pandas-dataframe-to-a-dictionary/\n",
    "dict_lat=dict(zip(lat_long.airport, lat_long.latitude))"
   ]
  },
  {
   "cell_type": "code",
   "execution_count": 64,
   "id": "c4f1855b",
   "metadata": {},
   "outputs": [],
   "source": [
    "### creating a longitude dictionary \n",
    "dict_long=dict(zip(lat_long.airport, lat_long.longitude))"
   ]
  },
  {
   "cell_type": "code",
   "execution_count": 65,
   "id": "46f624f7",
   "metadata": {},
   "outputs": [
    {
     "name": "stdout",
     "output_type": "stream",
     "text": [
      "<class 'pandas.core.frame.DataFrame'>\n",
      "Int64Index: 157906 entries, 0 to 158339\n",
      "Data columns (total 33 columns):\n",
      " #   Column               Non-Null Count   Dtype  \n",
      "---  ------               --------------   -----  \n",
      " 0   year                 157906 non-null  int64  \n",
      " 1   month                157906 non-null  int64  \n",
      " 2   carrier              157906 non-null  object \n",
      " 3   carrier_name         157906 non-null  object \n",
      " 4   airport              157906 non-null  object \n",
      " 5   arr_flights          157906 non-null  float64\n",
      " 6   arr_del15            157906 non-null  float64\n",
      " 7   carrier_ct           157906 non-null  float64\n",
      " 8   weather_ct           157906 non-null  float64\n",
      " 9   nas_ct               157906 non-null  float64\n",
      " 10  security_ct          157906 non-null  float64\n",
      " 11  late_aircraft_ct     157906 non-null  float64\n",
      " 12  arr_cancelled        157906 non-null  float64\n",
      " 13  arr_diverted         157906 non-null  float64\n",
      " 14  min_delay            157906 non-null  float64\n",
      " 15  carrier_delay        157906 non-null  float64\n",
      " 16  weather_delay        157906 non-null  float64\n",
      " 17  nas_delay            157906 non-null  float64\n",
      " 18  security_delay       157906 non-null  float64\n",
      " 19  late_aircraft_delay  157906 non-null  float64\n",
      " 20  arr_ontime           157906 non-null  float64\n",
      " 21  airport_name         157906 non-null  object \n",
      " 22  city                 157906 non-null  object \n",
      " 23  state                157906 non-null  object \n",
      " 24  perontime            157906 non-null  float64\n",
      " 25  perdelay             157906 non-null  float64\n",
      " 26  percancelled         157906 non-null  float64\n",
      " 27  perdiverted          157906 non-null  float64\n",
      " 28  per_car_delay        157906 non-null  float64\n",
      " 29  per_wea_delay        157906 non-null  float64\n",
      " 30  per_nas_delay        157906 non-null  float64\n",
      " 31  per_sec_delay        157906 non-null  float64\n",
      " 32  per_late_delay       157906 non-null  float64\n",
      "dtypes: float64(25), int64(2), object(6)\n",
      "memory usage: 41.0+ MB\n"
     ]
    }
   ],
   "source": [
    "delays.info()"
   ]
  },
  {
   "cell_type": "code",
   "execution_count": 66,
   "id": "edb65332",
   "metadata": {},
   "outputs": [],
   "source": [
    "## adding latitude\n",
    "lats=[]\n",
    "for i in delays['airport']:\n",
    "    for key, value in dict_lat.items(): \n",
    "        if key == i:\n",
    "            lats.append(value)"
   ]
  },
  {
   "cell_type": "code",
   "execution_count": 67,
   "id": "f1ff6ce6",
   "metadata": {},
   "outputs": [
    {
     "data": {
      "text/plain": [
       "157906"
      ]
     },
     "execution_count": 67,
     "metadata": {},
     "output_type": "execute_result"
    }
   ],
   "source": [
    "len(lats)"
   ]
  },
  {
   "cell_type": "code",
   "execution_count": 68,
   "id": "9b7735d9",
   "metadata": {},
   "outputs": [],
   "source": [
    "delays['latitude']=lats"
   ]
  },
  {
   "cell_type": "code",
   "execution_count": 69,
   "id": "727a6fc8",
   "metadata": {},
   "outputs": [
    {
     "name": "stdout",
     "output_type": "stream",
     "text": [
      "<class 'pandas.core.frame.DataFrame'>\n",
      "Int64Index: 157906 entries, 0 to 158339\n",
      "Data columns (total 34 columns):\n",
      " #   Column               Non-Null Count   Dtype  \n",
      "---  ------               --------------   -----  \n",
      " 0   year                 157906 non-null  int64  \n",
      " 1   month                157906 non-null  int64  \n",
      " 2   carrier              157906 non-null  object \n",
      " 3   carrier_name         157906 non-null  object \n",
      " 4   airport              157906 non-null  object \n",
      " 5   arr_flights          157906 non-null  float64\n",
      " 6   arr_del15            157906 non-null  float64\n",
      " 7   carrier_ct           157906 non-null  float64\n",
      " 8   weather_ct           157906 non-null  float64\n",
      " 9   nas_ct               157906 non-null  float64\n",
      " 10  security_ct          157906 non-null  float64\n",
      " 11  late_aircraft_ct     157906 non-null  float64\n",
      " 12  arr_cancelled        157906 non-null  float64\n",
      " 13  arr_diverted         157906 non-null  float64\n",
      " 14  min_delay            157906 non-null  float64\n",
      " 15  carrier_delay        157906 non-null  float64\n",
      " 16  weather_delay        157906 non-null  float64\n",
      " 17  nas_delay            157906 non-null  float64\n",
      " 18  security_delay       157906 non-null  float64\n",
      " 19  late_aircraft_delay  157906 non-null  float64\n",
      " 20  arr_ontime           157906 non-null  float64\n",
      " 21  airport_name         157906 non-null  object \n",
      " 22  city                 157906 non-null  object \n",
      " 23  state                157906 non-null  object \n",
      " 24  perontime            157906 non-null  float64\n",
      " 25  perdelay             157906 non-null  float64\n",
      " 26  percancelled         157906 non-null  float64\n",
      " 27  perdiverted          157906 non-null  float64\n",
      " 28  per_car_delay        157906 non-null  float64\n",
      " 29  per_wea_delay        157906 non-null  float64\n",
      " 30  per_nas_delay        157906 non-null  float64\n",
      " 31  per_sec_delay        157906 non-null  float64\n",
      " 32  per_late_delay       157906 non-null  float64\n",
      " 33  latitude             157906 non-null  float64\n",
      "dtypes: float64(26), int64(2), object(6)\n",
      "memory usage: 42.2+ MB\n"
     ]
    }
   ],
   "source": [
    "delays.info()"
   ]
  },
  {
   "cell_type": "markdown",
   "id": "53bc8970",
   "metadata": {},
   "source": [
    "Lets check that the values are in the right order. "
   ]
  },
  {
   "cell_type": "code",
   "execution_count": 70,
   "id": "4094eed9",
   "metadata": {},
   "outputs": [
    {
     "data": {
      "text/html": [
       "<div>\n",
       "<style scoped>\n",
       "    .dataframe tbody tr th:only-of-type {\n",
       "        vertical-align: middle;\n",
       "    }\n",
       "\n",
       "    .dataframe tbody tr th {\n",
       "        vertical-align: top;\n",
       "    }\n",
       "\n",
       "    .dataframe thead th {\n",
       "        text-align: right;\n",
       "    }\n",
       "</style>\n",
       "<table border=\"1\" class=\"dataframe\">\n",
       "  <thead>\n",
       "    <tr style=\"text-align: right;\">\n",
       "      <th></th>\n",
       "      <th>year</th>\n",
       "      <th>month</th>\n",
       "      <th>carrier</th>\n",
       "      <th>carrier_name</th>\n",
       "      <th>airport</th>\n",
       "      <th>arr_flights</th>\n",
       "      <th>arr_del15</th>\n",
       "      <th>carrier_ct</th>\n",
       "      <th>weather_ct</th>\n",
       "      <th>nas_ct</th>\n",
       "      <th>...</th>\n",
       "      <th>perontime</th>\n",
       "      <th>perdelay</th>\n",
       "      <th>percancelled</th>\n",
       "      <th>perdiverted</th>\n",
       "      <th>per_car_delay</th>\n",
       "      <th>per_wea_delay</th>\n",
       "      <th>per_nas_delay</th>\n",
       "      <th>per_sec_delay</th>\n",
       "      <th>per_late_delay</th>\n",
       "      <th>latitude</th>\n",
       "    </tr>\n",
       "  </thead>\n",
       "  <tbody>\n",
       "    <tr>\n",
       "      <th>0</th>\n",
       "      <td>2011</td>\n",
       "      <td>12</td>\n",
       "      <td>DL</td>\n",
       "      <td>Delta Air Lines Inc.</td>\n",
       "      <td>STL</td>\n",
       "      <td>396.0</td>\n",
       "      <td>34.0</td>\n",
       "      <td>13.90</td>\n",
       "      <td>0.68</td>\n",
       "      <td>6.53</td>\n",
       "      <td>...</td>\n",
       "      <td>0.914141</td>\n",
       "      <td>0.085859</td>\n",
       "      <td>0.0</td>\n",
       "      <td>0.000000</td>\n",
       "      <td>0.415476</td>\n",
       "      <td>0.01131</td>\n",
       "      <td>0.121429</td>\n",
       "      <td>0.0</td>\n",
       "      <td>0.451786</td>\n",
       "      <td>38.748697</td>\n",
       "    </tr>\n",
       "    <tr>\n",
       "      <th>1</th>\n",
       "      <td>2011</td>\n",
       "      <td>12</td>\n",
       "      <td>DL</td>\n",
       "      <td>Delta Air Lines Inc.</td>\n",
       "      <td>STT</td>\n",
       "      <td>42.0</td>\n",
       "      <td>4.0</td>\n",
       "      <td>3.09</td>\n",
       "      <td>0.00</td>\n",
       "      <td>0.91</td>\n",
       "      <td>...</td>\n",
       "      <td>0.904762</td>\n",
       "      <td>0.095238</td>\n",
       "      <td>0.0</td>\n",
       "      <td>0.000000</td>\n",
       "      <td>0.806452</td>\n",
       "      <td>0.00000</td>\n",
       "      <td>0.193548</td>\n",
       "      <td>0.0</td>\n",
       "      <td>0.000000</td>\n",
       "      <td>18.335700</td>\n",
       "    </tr>\n",
       "    <tr>\n",
       "      <th>2</th>\n",
       "      <td>2011</td>\n",
       "      <td>12</td>\n",
       "      <td>DL</td>\n",
       "      <td>Delta Air Lines Inc.</td>\n",
       "      <td>STX</td>\n",
       "      <td>3.0</td>\n",
       "      <td>0.0</td>\n",
       "      <td>0.00</td>\n",
       "      <td>0.00</td>\n",
       "      <td>0.00</td>\n",
       "      <td>...</td>\n",
       "      <td>1.000000</td>\n",
       "      <td>0.000000</td>\n",
       "      <td>0.0</td>\n",
       "      <td>0.000000</td>\n",
       "      <td>0.000000</td>\n",
       "      <td>0.00000</td>\n",
       "      <td>0.000000</td>\n",
       "      <td>0.0</td>\n",
       "      <td>0.000000</td>\n",
       "      <td>17.699500</td>\n",
       "    </tr>\n",
       "    <tr>\n",
       "      <th>3</th>\n",
       "      <td>2011</td>\n",
       "      <td>12</td>\n",
       "      <td>DL</td>\n",
       "      <td>Delta Air Lines Inc.</td>\n",
       "      <td>SYR</td>\n",
       "      <td>55.0</td>\n",
       "      <td>5.0</td>\n",
       "      <td>2.50</td>\n",
       "      <td>0.00</td>\n",
       "      <td>1.50</td>\n",
       "      <td>...</td>\n",
       "      <td>0.890909</td>\n",
       "      <td>0.090909</td>\n",
       "      <td>0.0</td>\n",
       "      <td>0.018182</td>\n",
       "      <td>0.544218</td>\n",
       "      <td>0.00000</td>\n",
       "      <td>0.238095</td>\n",
       "      <td>0.0</td>\n",
       "      <td>0.217687</td>\n",
       "      <td>43.111198</td>\n",
       "    </tr>\n",
       "    <tr>\n",
       "      <th>4</th>\n",
       "      <td>2011</td>\n",
       "      <td>12</td>\n",
       "      <td>DL</td>\n",
       "      <td>Delta Air Lines Inc.</td>\n",
       "      <td>TLH</td>\n",
       "      <td>31.0</td>\n",
       "      <td>5.0</td>\n",
       "      <td>1.25</td>\n",
       "      <td>0.00</td>\n",
       "      <td>1.00</td>\n",
       "      <td>...</td>\n",
       "      <td>0.838710</td>\n",
       "      <td>0.161290</td>\n",
       "      <td>0.0</td>\n",
       "      <td>0.000000</td>\n",
       "      <td>0.277108</td>\n",
       "      <td>0.00000</td>\n",
       "      <td>0.117470</td>\n",
       "      <td>0.0</td>\n",
       "      <td>0.605422</td>\n",
       "      <td>30.396500</td>\n",
       "    </tr>\n",
       "  </tbody>\n",
       "</table>\n",
       "<p>5 rows × 34 columns</p>\n",
       "</div>"
      ],
      "text/plain": [
       "   year  month carrier          carrier_name airport  arr_flights  arr_del15  \\\n",
       "0  2011     12      DL  Delta Air Lines Inc.     STL        396.0       34.0   \n",
       "1  2011     12      DL  Delta Air Lines Inc.     STT         42.0        4.0   \n",
       "2  2011     12      DL  Delta Air Lines Inc.     STX          3.0        0.0   \n",
       "3  2011     12      DL  Delta Air Lines Inc.     SYR         55.0        5.0   \n",
       "4  2011     12      DL  Delta Air Lines Inc.     TLH         31.0        5.0   \n",
       "\n",
       "   carrier_ct  weather_ct  nas_ct  ...  perontime  perdelay  percancelled  \\\n",
       "0       13.90        0.68    6.53  ...   0.914141  0.085859           0.0   \n",
       "1        3.09        0.00    0.91  ...   0.904762  0.095238           0.0   \n",
       "2        0.00        0.00    0.00  ...   1.000000  0.000000           0.0   \n",
       "3        2.50        0.00    1.50  ...   0.890909  0.090909           0.0   \n",
       "4        1.25        0.00    1.00  ...   0.838710  0.161290           0.0   \n",
       "\n",
       "   perdiverted  per_car_delay  per_wea_delay  per_nas_delay  per_sec_delay  \\\n",
       "0     0.000000       0.415476        0.01131       0.121429            0.0   \n",
       "1     0.000000       0.806452        0.00000       0.193548            0.0   \n",
       "2     0.000000       0.000000        0.00000       0.000000            0.0   \n",
       "3     0.018182       0.544218        0.00000       0.238095            0.0   \n",
       "4     0.000000       0.277108        0.00000       0.117470            0.0   \n",
       "\n",
       "   per_late_delay   latitude  \n",
       "0        0.451786  38.748697  \n",
       "1        0.000000  18.335700  \n",
       "2        0.000000  17.699500  \n",
       "3        0.217687  43.111198  \n",
       "4        0.605422  30.396500  \n",
       "\n",
       "[5 rows x 34 columns]"
      ]
     },
     "execution_count": 70,
     "metadata": {},
     "output_type": "execute_result"
    }
   ],
   "source": [
    "delays.head()"
   ]
  },
  {
   "cell_type": "code",
   "execution_count": 423,
   "id": "4fa08199",
   "metadata": {},
   "outputs": [
    {
     "data": {
      "text/plain": [
       "{'ABE': 40.65209961,\n",
       " 'ABI': 32.41130066,\n",
       " 'ABQ': 35.040199,\n",
       " 'ABY': 31.53549957,\n",
       " 'ACT': 31.61129951,\n",
       " 'ACV': 40.97809982,\n",
       " 'ACY': 39.45759964,\n",
       " 'ADK': 51.87799835,\n",
       " 'ADQ': 57.75,\n",
       " 'AEX': 31.32740021,\n",
       " 'AGS': 33.36989975,\n",
       " 'ALB': 42.74829865,\n",
       " 'AMA': 35.219398,\n",
       " 'ANC': 61.17440033,\n",
       " 'ASE': 39.22320175,\n",
       " 'ATL': 33.63669968,\n",
       " 'ATW': 44.2580986,\n",
       " 'AUS': 30.19449997,\n",
       " 'AVL': 35.43619919,\n",
       " 'AVP': 41.33850098,\n",
       " 'AZO': 42.23490143,\n",
       " 'BDL': 41.93889999,\n",
       " 'BET': 60.77980042,\n",
       " 'BFL': 35.43360138,\n",
       " 'BGM': 42.20869827,\n",
       " 'BHM': 33.56290054,\n",
       " 'BIL': 45.80770111,\n",
       " 'BIS': 46.77270126,\n",
       " 'BKG': 36.532082,\n",
       " 'BLI': 48.7928009,\n",
       " 'BMI': 40.47710037,\n",
       " 'BNA': 36.12450027,\n",
       " 'BOI': 43.56439972,\n",
       " 'BOS': 42.36429977,\n",
       " 'BQK': 31.25880051,\n",
       " 'BQN': 18.4903,\n",
       " 'BRO': 25.90679932,\n",
       " 'BRW': 71.285402,\n",
       " 'BTM': 45.95479965,\n",
       " 'BTR': 30.53319931,\n",
       " 'BTV': 44.47190094,\n",
       " 'BUF': 42.94049835,\n",
       " 'BUR': 34.20069885,\n",
       " 'BWI': 39.17539978,\n",
       " 'BZN': 45.77750015,\n",
       " 'CAE': 33.93880081,\n",
       " 'CAK': 40.91609955,\n",
       " 'CDC': 37.70100021,\n",
       " 'CDV': 60.4917984,\n",
       " 'CEC': 41.78020096,\n",
       " 'CHA': 35.03530121,\n",
       " 'CHO': 38.1385994,\n",
       " 'CHS': 32.89860153,\n",
       " 'CIC': 39.79539871,\n",
       " 'CID': 41.88470078,\n",
       " 'CLD': 33.12829971,\n",
       " 'CLE': 41.4117012,\n",
       " 'CLL': 30.58860016,\n",
       " 'CLT': 35.2140007,\n",
       " 'CMH': 39.9980011,\n",
       " 'CMI': 40.03919983,\n",
       " 'CMX': 47.16839981,\n",
       " 'COD': 44.52019882,\n",
       " 'COS': 38.80580139,\n",
       " 'CPR': 42.90800095,\n",
       " 'CRP': 27.77039909,\n",
       " 'CRW': 38.37310028,\n",
       " 'CSG': 32.5163002,\n",
       " 'CVG': 39.04880142,\n",
       " 'CWA': 44.77759933,\n",
       " 'CYS': 41.15570068,\n",
       " 'DAB': 29.179899,\n",
       " 'DAL': 32.847099,\n",
       " 'DAY': 39.90240097,\n",
       " 'DBQ': 42.40200043,\n",
       " 'DCA': 38.8521,\n",
       " 'DEN': 39.86169815,\n",
       " 'DFW': 32.89680099,\n",
       " 'DHN': 31.32130051,\n",
       " 'DLH': 46.84209824,\n",
       " 'DRO': 37.1515007,\n",
       " 'DSM': 41.5340004,\n",
       " 'DTW': 42.21239853,\n",
       " 'EAU': 44.86579895,\n",
       " 'ECP': 30.357106,\n",
       " 'EGE': 39.64260101,\n",
       " 'EKO': 40.82490158,\n",
       " 'ELM': 42.15990067,\n",
       " 'ELP': 31.80719948,\n",
       " 'EUG': 44.12459946,\n",
       " 'EVV': 38.03699875,\n",
       " 'EWN': 35.07300186,\n",
       " 'EWR': 40.69250107,\n",
       " 'EYW': 24.55610085,\n",
       " 'FAI': 64.81510162,\n",
       " 'FAR': 46.92070007,\n",
       " 'FAT': 36.77619934,\n",
       " 'FAY': 34.99119949,\n",
       " 'FCA': 48.3105011,\n",
       " 'FLG': 35.13850021,\n",
       " 'FLL': 26.07259941,\n",
       " 'FLO': 34.1853981,\n",
       " 'FNT': 42.9654007,\n",
       " 'FSD': 43.58200073,\n",
       " 'FSM': 35.33660126,\n",
       " 'FWA': 40.97850037,\n",
       " 'GCC': 44.34889984,\n",
       " 'GEG': 47.61989975,\n",
       " 'GFK': 47.949299,\n",
       " 'GGG': 32.38399887,\n",
       " 'GJT': 39.12239838,\n",
       " 'GNV': 29.69009972,\n",
       " 'GPT': 30.40730095,\n",
       " 'GRB': 44.48509979,\n",
       " 'GRK': 31.06719971,\n",
       " 'GRR': 42.88079834,\n",
       " 'GSO': 36.09780121,\n",
       " 'GSP': 34.89569855,\n",
       " 'GTF': 47.48199844,\n",
       " 'GTR': 33.45029831,\n",
       " 'GUC': 38.53390121,\n",
       " 'GUM': 13.4837,\n",
       " 'HDN': 40.48120117,\n",
       " 'HLN': 46.60680008,\n",
       " 'HNL': 21.32062,\n",
       " 'HOU': 29.64539909,\n",
       " 'HPN': 41.06700134,\n",
       " 'HRL': 26.22850037,\n",
       " 'HSV': 34.6371994,\n",
       " 'IAD': 38.94449997,\n",
       " 'IAH': 29.9843998,\n",
       " 'ICT': 37.64989853,\n",
       " 'IDA': 43.514599,\n",
       " 'ILM': 34.27059937,\n",
       " 'IND': 39.7173,\n",
       " 'IPL': 32.83420181,\n",
       " 'ISP': 40.79520035,\n",
       " 'ITO': 19.72139931,\n",
       " 'IYK': 35.65879822,\n",
       " 'JAC': 43.6072998,\n",
       " 'JAN': 32.31119919,\n",
       " 'JAX': 30.49410057,\n",
       " 'JFK': 40.63980103,\n",
       " 'JNU': 58.35499954,\n",
       " 'KOA': 19.73880005,\n",
       " 'KTN': 55.35559845,\n",
       " 'LAN': 42.77870178,\n",
       " 'LAS': 36.08010101,\n",
       " 'LAX': 33.94250107,\n",
       " 'LBB': 33.663601,\n",
       " 'LCH': 30.12610054,\n",
       " 'LEX': 38.03649902,\n",
       " 'LFT': 30.20529938,\n",
       " 'LGA': 40.77719879,\n",
       " 'LGB': 33.81769943,\n",
       " 'LIH': 21.97599983,\n",
       " 'LIT': 34.72940063,\n",
       " 'LMT': 42.156101,\n",
       " 'LNK': 40.85100174,\n",
       " 'LRD': 27.54380035,\n",
       " 'LSE': 43.879002,\n",
       " 'LWB': 37.85829926,\n",
       " 'LWS': 46.37450027,\n",
       " 'LYH': 37.3266983,\n",
       " 'MAF': 31.94249916,\n",
       " 'MBS': 43.53290176,\n",
       " 'MCI': 39.2976,\n",
       " 'MCO': 28.42939949,\n",
       " 'MDT': 40.19350052,\n",
       " 'MDW': 41.7859993,\n",
       " 'MEI': 32.33259964,\n",
       " 'MEM': 35.04240036,\n",
       " 'MFE': 26.17580032,\n",
       " 'MFR': 42.37419891,\n",
       " 'MGM': 32.30059814,\n",
       " 'MHK': 39.14099884,\n",
       " 'MHT': 42.93259811,\n",
       " 'MIA': 25.79319954,\n",
       " 'MKE': 42.94720078,\n",
       " 'MKG': 43.16949844,\n",
       " 'MLB': 28.10280037,\n",
       " 'MLI': 41.44850159,\n",
       " 'MLU': 32.51089859,\n",
       " 'MMH': 37.62409973,\n",
       " 'MOB': 30.69120026,\n",
       " 'MOD': 37.62580109,\n",
       " 'MOT': 48.25939941,\n",
       " 'MQT': 46.35359955,\n",
       " 'MRY': 36.5870018,\n",
       " 'MSN': 43.13990021,\n",
       " 'MSO': 46.91630173,\n",
       " 'MSP': 44.88199997,\n",
       " 'MSY': 29.99340057,\n",
       " 'MTJ': 38.50979996,\n",
       " 'MYR': 33.67969894,\n",
       " 'OAJ': 34.82920074,\n",
       " 'OAK': 37.721298,\n",
       " 'OGG': 20.8986,\n",
       " 'OKC': 35.39310074,\n",
       " 'OMA': 41.30319977,\n",
       " 'OME': 64.5121994,\n",
       " 'ONT': 34.05599976,\n",
       " 'ORD': 41.97859955,\n",
       " 'ORF': 36.89459991,\n",
       " 'OTH': 43.417099,\n",
       " 'OTZ': 66.88469696,\n",
       " 'PAH': 37.06079865,\n",
       " 'PBI': 26.68320084,\n",
       " 'PDX': 45.58869934,\n",
       " 'PHF': 37.13190079,\n",
       " 'PHL': 39.87189865,\n",
       " 'PHX': 33.43429947,\n",
       " 'PIA': 40.66419983,\n",
       " 'PIE': 27.91020012,\n",
       " 'PIH': 42.90980148,\n",
       " 'PIT': 40.49150085,\n",
       " 'PNS': 30.47340012,\n",
       " 'PSC': 46.26470184,\n",
       " 'PSE': 18.005,\n",
       " 'PSG': 56.80170059,\n",
       " 'PSP': 33.82970047,\n",
       " 'PVD': 41.73260117,\n",
       " 'PWM': 43.64619827,\n",
       " 'RAP': 44.04529953,\n",
       " 'RDD': 40.50899887,\n",
       " 'RDM': 44.2541008,\n",
       " 'RDU': 35.87760162,\n",
       " 'RIC': 37.50519943,\n",
       " 'RKS': 41.59420013,\n",
       " 'RNO': 39.49909973,\n",
       " 'ROA': 37.3255,\n",
       " 'ROC': 43.1189003,\n",
       " 'ROW': 33.30160141,\n",
       " 'RST': 43.90829849,\n",
       " 'RSW': 26.53619957,\n",
       " 'SAF': 35.61709976,\n",
       " 'SAN': 32.73360062,\n",
       " 'SAT': 29.53370094,\n",
       " 'SAV': 32.12760162,\n",
       " 'SBA': 34.42620087,\n",
       " 'SBN': 41.70869827,\n",
       " 'SBP': 35.23680115,\n",
       " 'SCC': 70.19470215,\n",
       " 'SDF': 38.1744,\n",
       " 'SEA': 47.44900131,\n",
       " 'SFO': 37.61899948,\n",
       " 'SGF': 37.24570084,\n",
       " 'SGU': 37.036389,\n",
       " 'SHV': 32.44660187,\n",
       " 'SIT': 57.04710007,\n",
       " 'SJC': 37.362598,\n",
       " 'SJU': 18.437375,\n",
       " 'SLC': 40.78839874,\n",
       " 'SMF': 38.69540024,\n",
       " 'SMX': 34.89889908,\n",
       " 'SNA': 33.67570114,\n",
       " 'SPI': 39.84410095,\n",
       " 'SPS': 33.9888,\n",
       " 'SRQ': 27.39539909,\n",
       " 'STL': 38.748697,\n",
       " 'STT': 18.3357,\n",
       " 'STX': 17.6995,\n",
       " 'SUN': 43.50439835,\n",
       " 'SWF': 41.5041008,\n",
       " 'SYR': 43.11119843,\n",
       " 'TEX': 37.9538002,\n",
       " 'TLH': 30.39649963,\n",
       " 'TOL': 41.58679962,\n",
       " 'TPA': 27.97550011,\n",
       " 'TRI': 36.475201,\n",
       " 'TUL': 36.19839859,\n",
       " 'TUS': 32.11610031,\n",
       " 'TVC': 44.74140167,\n",
       " 'TWF': 42.48180008,\n",
       " 'TXK': 33.45370102,\n",
       " 'TYR': 32.35409927,\n",
       " 'TYS': 35.81100082,\n",
       " 'UTM': 34.68099976,\n",
       " 'VLD': 30.78249931,\n",
       " 'VPS': 30.4832,\n",
       " 'WRG': 56.48429871,\n",
       " 'XNA': 36.281898,\n",
       " 'YAK': 59.50329971,\n",
       " 'YUM': 32.65660095,\n",
       " 'BPT': 29.95079994,\n",
       " 'SPN': 15.119743,\n",
       " 'ACK': 41.25310135,\n",
       " 'MVY': 41.39310074,\n",
       " 'AKN': 58.67679977,\n",
       " 'BFF': 41.87400055,\n",
       " 'BGR': 44.80739975,\n",
       " 'DLG': 59.04470062,\n",
       " 'GRI': 40.96749878,\n",
       " 'GST': 58.4253006,\n",
       " 'HOB': 32.6875,\n",
       " 'WYS': 44.68840027,\n",
       " 'SCE': 40.84930038,\n",
       " 'EFD': 29.6072998,\n",
       " 'ART': 43.9919014,\n",
       " 'TUP': 34.26810074,\n",
       " 'RFD': 42.19540024,\n",
       " 'JLN': 37.15179825,\n",
       " 'LAW': 34.56769943,\n",
       " 'SJT': 31.35770035,\n",
       " 'SUX': 42.40259933,\n",
       " 'ABR': 45.44910049,\n",
       " 'BJI': 47.50939941,\n",
       " 'ALO': 42.55709839,\n",
       " 'GCK': 37.92750168,\n",
       " 'COU': 38.81809998,\n",
       " 'DRT': 29.37420082,\n",
       " 'APN': 45.0780983,\n",
       " 'BRD': 46.39830017,\n",
       " 'ESC': 45.72269821,\n",
       " 'HIB': 47.38660049,\n",
       " 'IMT': 45.81840134,\n",
       " 'INL': 48.56620026,\n",
       " 'AZA': 33.30780029,\n",
       " 'ISN': 48.17789841,\n",
       " 'LAR': 41.31209946,\n",
       " 'SHD': 38.26380157,\n",
       " 'TTN': 40.27669907,\n",
       " 'PLN': 45.57089996,\n",
       " 'CIU': 46.25080109,\n",
       " 'ERI': 42.08312701,\n",
       " 'ITH': 42.49100113,\n",
       " 'PPG': -14.3257,\n",
       " 'RHI': 45.63119888,\n",
       " 'DIK': 46.79740143,\n",
       " 'ILG': 39.67869949,\n",
       " 'ORH': 42.26729965,\n",
       " 'FOE': 38.95090103,\n",
       " 'CNY': 38.75500107,\n",
       " 'VEL': 40.4408989,\n",
       " 'PUB': 38.28910065,\n",
       " 'STC': 45.54660034,\n",
       " 'UST': 29.9592,\n",
       " 'DVL': 48.11420059,\n",
       " 'HYA': 41.66930008,\n",
       " 'JMS': 46.92969894,\n",
       " 'HYS': 38.84220123,\n",
       " 'PIB': 31.46710014,\n",
       " 'IAG': 43.1072998,\n",
       " 'LBE': 40.27590179,\n",
       " 'PBG': 44.65090179,\n",
       " 'PGD': 26.92020035,\n",
       " 'IFP': 35.15739822,\n",
       " 'STS': 38.50899887,\n",
       " 'CKB': 39.29660034,\n",
       " 'FNL': 40.4518013,\n",
       " 'CGI': 37.22529984,\n",
       " 'SWO': 36.16120148,\n",
       " 'UIN': 39.94269943,\n",
       " 'BLV': 38.5452,\n",
       " 'HGR': 39.707901,\n",
       " 'HTS': 38.36669922,\n",
       " 'HVN': 41.26369858,\n",
       " 'LCK': 39.813801,\n",
       " 'OGD': 41.19589996,\n",
       " 'OGS': 44.68190002,\n",
       " 'OWB': 37.74010086,\n",
       " 'PSM': 43.07789993,\n",
       " 'PVU': 40.21920013,\n",
       " 'SCK': 37.89419937,\n",
       " 'SFB': 28.77759933,\n",
       " 'USA': 35.387798,\n",
       " 'YNG': 41.26070023,\n",
       " 'LBF': 41.12620163,\n",
       " 'LBL': 37.0442009,\n",
       " 'PGV': 35.6352005,\n",
       " 'SLN': 38.79100037,\n",
       " 'HHH': 32.22439957,\n",
       " 'PRC': 34.65449905,\n",
       " 'EAR': 40.72700119,\n",
       " 'PAE': 47.90629959,\n",
       " 'ATY': 44.91400146,\n",
       " 'PIR': 44.38270187,\n",
       " 'BFM': 30.62680054,\n",
       " 'XWA': 48.2578,\n",
       " 'RIW': 43.06420136,\n",
       " 'SHR': 44.76919937,\n",
       " 'DDC': 37.76340103,\n",
       " 'DEC': 39.83459854,\n",
       " 'CDB': 55.20610046,\n",
       " 'IPT': 41.2417984,\n",
       " 'ALS': 37.434898,\n",
       " 'VCT': 28.8526001,\n",
       " 'JST': 40.31610107}"
      ]
     },
     "execution_count": 423,
     "metadata": {},
     "output_type": "execute_result"
    }
   ],
   "source": [
    "## checking if it worked\n",
    "dict_lat"
   ]
  },
  {
   "cell_type": "markdown",
   "id": "f54230b2",
   "metadata": {},
   "source": [
    "The first five in the dataframe indeed match the corresponding values for the airport codes. Lets repeat this for longitude.  "
   ]
  },
  {
   "cell_type": "code",
   "execution_count": 75,
   "id": "37302d5e",
   "metadata": {},
   "outputs": [],
   "source": [
    "## adding longitude\n",
    "long=[]\n",
    "for i in delays['airport']:\n",
    "    for key, value in dict_long.items(): \n",
    "        if key == i:\n",
    "            long.append(value)"
   ]
  },
  {
   "cell_type": "code",
   "execution_count": 76,
   "id": "bd6aaada",
   "metadata": {},
   "outputs": [
    {
     "data": {
      "text/plain": [
       "157906"
      ]
     },
     "execution_count": 76,
     "metadata": {},
     "output_type": "execute_result"
    }
   ],
   "source": [
    "len(long)"
   ]
  },
  {
   "cell_type": "code",
   "execution_count": 77,
   "id": "4dee55f7",
   "metadata": {},
   "outputs": [],
   "source": [
    "delays['longitude']=long"
   ]
  },
  {
   "cell_type": "code",
   "execution_count": 78,
   "id": "cf846caa",
   "metadata": {},
   "outputs": [
    {
     "name": "stdout",
     "output_type": "stream",
     "text": [
      "<class 'pandas.core.frame.DataFrame'>\n",
      "Int64Index: 157906 entries, 0 to 158339\n",
      "Data columns (total 35 columns):\n",
      " #   Column               Non-Null Count   Dtype  \n",
      "---  ------               --------------   -----  \n",
      " 0   year                 157906 non-null  int64  \n",
      " 1   month                157906 non-null  int64  \n",
      " 2   carrier              157906 non-null  object \n",
      " 3   carrier_name         157906 non-null  object \n",
      " 4   airport              157906 non-null  object \n",
      " 5   arr_flights          157906 non-null  float64\n",
      " 6   arr_del15            157906 non-null  float64\n",
      " 7   carrier_ct           157906 non-null  float64\n",
      " 8   weather_ct           157906 non-null  float64\n",
      " 9   nas_ct               157906 non-null  float64\n",
      " 10  security_ct          157906 non-null  float64\n",
      " 11  late_aircraft_ct     157906 non-null  float64\n",
      " 12  arr_cancelled        157906 non-null  float64\n",
      " 13  arr_diverted         157906 non-null  float64\n",
      " 14  min_delay            157906 non-null  float64\n",
      " 15  carrier_delay        157906 non-null  float64\n",
      " 16  weather_delay        157906 non-null  float64\n",
      " 17  nas_delay            157906 non-null  float64\n",
      " 18  security_delay       157906 non-null  float64\n",
      " 19  late_aircraft_delay  157906 non-null  float64\n",
      " 20  arr_ontime           157906 non-null  float64\n",
      " 21  airport_name         157906 non-null  object \n",
      " 22  city                 157906 non-null  object \n",
      " 23  state                157906 non-null  object \n",
      " 24  perontime            157906 non-null  float64\n",
      " 25  perdelay             157906 non-null  float64\n",
      " 26  percancelled         157906 non-null  float64\n",
      " 27  perdiverted          157906 non-null  float64\n",
      " 28  per_car_delay        157906 non-null  float64\n",
      " 29  per_wea_delay        157906 non-null  float64\n",
      " 30  per_nas_delay        157906 non-null  float64\n",
      " 31  per_sec_delay        157906 non-null  float64\n",
      " 32  per_late_delay       157906 non-null  float64\n",
      " 33  latitude             157906 non-null  float64\n",
      " 34  longitude            157906 non-null  float64\n",
      "dtypes: float64(27), int64(2), object(6)\n",
      "memory usage: 43.4+ MB\n"
     ]
    }
   ],
   "source": [
    "delays.info()"
   ]
  },
  {
   "cell_type": "markdown",
   "id": "1a3070a3",
   "metadata": {},
   "source": [
    "The data set is ready. Further feature engineering will be needed after grouping by airports or airlines. We will see that in the next notebook, visualizations_quickstart_airports. "
   ]
  },
  {
   "cell_type": "markdown",
   "id": "6d4ac938",
   "metadata": {},
   "source": [
    "## Exploratory data analysis"
   ]
  },
  {
   "cell_type": "markdown",
   "id": "820eed6b",
   "metadata": {},
   "source": [
    "The objective of this section is to get a quick sense of what the dataset looks like. I will use some common plots in Matplotlib and Seaborn. "
   ]
  },
  {
   "cell_type": "markdown",
   "id": "1ecf310f",
   "metadata": {},
   "source": [
    "### Number of observations per year"
   ]
  },
  {
   "cell_type": "code",
   "execution_count": 435,
   "id": "32d96a57",
   "metadata": {},
   "outputs": [
    {
     "data": {
      "image/png": "[encoded data removed]",
      "text/plain": [
       "<Figure size 1600x800 with 1 Axes>"
      ]
     },
     "metadata": {},
     "output_type": "display_data"
    }
   ],
   "source": [
    "plt.figure(figsize=(16,8))\n",
    "sns.set_theme(style=\"whitegrid\")\n",
    "base_color = sns.color_palette()[0]\n",
    "ax=sns.countplot(data=delays, x='year', color=base_color)\n",
    "\n",
    "plt.title('Number of Observations of Data per Year');\n",
    "\n",
    "for p in ax.patches:\n",
    "        ax.annotate('{:.0f}'.format(p.get_height()), (p.get_x()+0.2, p.get_height()+100))"
   ]
  },
  {
   "cell_type": "markdown",
   "id": "e205a2b6",
   "metadata": {},
   "source": [
    "Something is happening between 2016-2017 and 2018-2020. More airlines? More airports? This needs a deeper dive. "
   ]
  },
  {
   "cell_type": "markdown",
   "id": "87149b11",
   "metadata": {},
   "source": [
    "### Number of observations per month"
   ]
  },
  {
   "cell_type": "code",
   "execution_count": 436,
   "id": "65426021",
   "metadata": {},
   "outputs": [
    {
     "data": {
      "image/png": "[encoded data removed]",
      "text/plain": [
       "<Figure size 1600x800 with 1 Axes>"
      ]
     },
     "metadata": {},
     "output_type": "display_data"
    }
   ],
   "source": [
    "plt.figure(figsize=(16,8))\n",
    "sns.set_theme(style=\"whitegrid\")\n",
    "base_color = sns.color_palette()[2]\n",
    "ax=sns.countplot(data=delays, x='month', color=base_color)\n",
    "ax.set_xticklabels(['Jan', 'Feb', 'Mar', 'Apr', 'May', 'Jun', 'Jul', 'Aug', 'Sep', 'Oct', 'Nov', 'Dec'])\n",
    "plt.title('Number of Observations of Data per Month');\n",
    "\n",
    "for p in ax.patches:\n",
    "        ax.annotate('{:.0f}'.format(p.get_height()), (p.get_x()+0.2, p.get_height()+100))"
   ]
  },
  {
   "cell_type": "markdown",
   "id": "2cb51bd9",
   "metadata": {},
   "source": [
    "The number of observations per month seems to be even. "
   ]
  },
  {
   "cell_type": "markdown",
   "id": "785a0be1",
   "metadata": {},
   "source": [
    "### Airline share of observations in the dataset"
   ]
  },
  {
   "cell_type": "code",
   "execution_count": 439,
   "id": "2b9e637c",
   "metadata": {},
   "outputs": [
    {
     "data": {
      "image/png": "[encoded data removed]",
      "text/plain": [
       "<Figure size 800x800 with 1 Axes>"
      ]
     },
     "metadata": {},
     "output_type": "display_data"
    }
   ],
   "source": [
    "import random\n",
    "import matplotlib.colors as mcolors\n",
    "airlines = delays['carrier_name'].value_counts()\n",
    "n_colors=delays['carrier_name'].nunique()\n",
    "pie, ax = plt.subplots(figsize=[8,8])\n",
    "labels = airlines.keys()\n",
    "random.seed(2050) \n",
    "colors = random.choices(list(mcolors.CSS4_COLORS.values()),k = n_colors)\n",
    "plt.pie(x=airlines, autopct=\"%.1f%%\", labels=labels, colors=colors, pctdistance=0.8, counterclock=True, startangle=0)\n",
    "plt.title(\"Share of observations by carrier name\", fontsize=12);"
   ]
  },
  {
   "cell_type": "markdown",
   "id": "481bf7be",
   "metadata": {},
   "source": [
    "This view shows the share of observations in the dataset, which is not necessarily the same as market share. Observations are at the airport, airline, month, year. However, within each airline, the number of flights per airport varies. This would be the true metric of market share. We'll explore it in more detail in the next notebook. "
   ]
  },
  {
   "cell_type": "markdown",
   "id": "8a0baf7a",
   "metadata": {},
   "source": [
    "### Airport share of observations in the dataset"
   ]
  },
  {
   "cell_type": "code",
   "execution_count": 440,
   "id": "f55288c1",
   "metadata": {},
   "outputs": [],
   "source": [
    "airporttop10=delays.airport.value_counts().head(10)"
   ]
  },
  {
   "cell_type": "code",
   "execution_count": 441,
   "id": "73e77c52",
   "metadata": {},
   "outputs": [
    {
     "data": {
      "text/plain": [
       "DCA    1477\n",
       "DTW    1470\n",
       "MSY    1462\n",
       "ATL    1461\n",
       "LAX    1445\n",
       "RDU    1443\n",
       "AUS    1432\n",
       "MCI    1428\n",
       "PIT    1410\n",
       "PHL    1405\n",
       "Name: airport, dtype: int64"
      ]
     },
     "execution_count": 441,
     "metadata": {},
     "output_type": "execute_result"
    }
   ],
   "source": [
    "airporttop10"
   ]
  },
  {
   "cell_type": "markdown",
   "id": "f3e288aa",
   "metadata": {},
   "source": [
    "On average, the top ten airports, by number of observations, reported data every month (10 years times 12 months) and at least 12 airlines to total more than 1400 observations. The median airport could have also reported for every month, but on average, for 1,6 airlines. The tail of the distribution (the last quartile) has less than one airline per month every year. However, these are not necessarily the busiest. We will cross in the bivariate analysis the number of flights.  "
   ]
  },
  {
   "cell_type": "code",
   "execution_count": 442,
   "id": "23f514d1",
   "metadata": {},
   "outputs": [],
   "source": [
    "airportbot10=delays.airport.value_counts().tail(10)"
   ]
  },
  {
   "cell_type": "code",
   "execution_count": 443,
   "id": "330e3ca9",
   "metadata": {},
   "outputs": [
    {
     "data": {
      "text/plain": [
       "FLO    6\n",
       "UTM    5\n",
       "TEX    4\n",
       "IPT    3\n",
       "ALS    2\n",
       "VCT    2\n",
       "JST    1\n",
       "FNL    1\n",
       "YNG    1\n",
       "TUP    1\n",
       "Name: airport, dtype: int64"
      ]
     },
     "execution_count": 443,
     "metadata": {},
     "output_type": "execute_result"
    }
   ],
   "source": [
    "airportbot10"
   ]
  },
  {
   "cell_type": "markdown",
   "id": "c7918cd6",
   "metadata": {},
   "source": [
    "The bottom 10 have less than 10 observations each. "
   ]
  },
  {
   "cell_type": "markdown",
   "id": "1b29a14a",
   "metadata": {},
   "source": [
    "The preliminary analysis is concluded. Let's export the data set and continue the analysis with more in depth visualizations. "
   ]
  },
  {
   "cell_type": "code",
   "execution_count": 79,
   "id": "8b29be9a",
   "metadata": {},
   "outputs": [],
   "source": [
    "## Exporting the clean dataframe. We will use it in the next notebook\n",
    "delays.to_csv('delays_clean.csv',index=False)"
   ]
  },
  {
   "cell_type": "code",
   "execution_count": null,
   "id": "602fd03e",
   "metadata": {},
   "outputs": [],
   "source": []
  }
 ],
 "metadata": {
  "kernelspec": {
   "display_name": "Python 3 (ipykernel)",
   "language": "python",
   "name": "python3"
  },
  "language_info": {
   "codemirror_mode": {
    "name": "ipython",
    "version": 3
   },
   "file_extension": ".py",
   "mimetype": "text/x-python",
   "name": "python",
   "nbconvert_exporter": "python",
   "pygments_lexer": "ipython3",
   "version": "3.10.6"
  },
  "toc": {
   "base_numbering": 1,
   "nav_menu": {},
   "number_sections": true,
   "sideBar": true,
   "skip_h1_title": true,
   "title_cell": "Table of Contents",
   "title_sidebar": "Contents",
   "toc_cell": false,
   "toc_position": {
    "height": "calc(100% - 180px)",
    "left": "10px",
    "top": "150px",
    "width": "303.837px"
   },
   "toc_section_display": true,
   "toc_window_display": true
  },
  "varInspector": {
   "cols": {
    "lenName": 16,
    "lenType": 16,
    "lenVar": 40
   },
   "kernels_config": {
    "python": {
     "delete_cmd_postfix": "",
     "delete_cmd_prefix": "del ",
     "library": "var_list.py",
     "varRefreshCmd": "print(var_dic_list())"
    },
    "r": {
     "delete_cmd_postfix": ") ",
     "delete_cmd_prefix": "rm(",
     "library": "var_list.r",
     "varRefreshCmd": "cat(var_dic_list()) "
    }
   },
   "types_to_exclude": [
    "module",
    "function",
    "builtin_function_or_method",
    "instance",
    "_Feature"
   ],
   "window_display": false
  }
 },
 "nbformat": 4,
 "nbformat_minor": 5
}
